{
  "nbformat": 4,
  "nbformat_minor": 0,
  "metadata": {
    "kernelspec": {
      "name": "python3",
      "display_name": "Python 3"
    },
    "colab": {
      "name": "Copy of lesson3-imdb.ipynb",
      "provenance": []
    },
    "accelerator": "GPU"
  },
  "cells": [
    {
      "cell_type": "markdown",
      "metadata": {
        "id": "jbzARDaQqF2r",
        "colab_type": "text"
      },
      "source": [
        "# IMDB"
      ]
    },
    {
      "cell_type": "code",
      "metadata": {
        "id": "00esGvowqTue",
        "colab_type": "code",
        "outputId": "51dfde23-a641-4d77-d399-8b69e189f6b0",
        "colab": {
          "base_uri": "https://localhost:8080/",
          "height": 121
        }
      },
      "source": [
        "from google.colab import drive #mount drive\n",
        "drive.mount('/content/drive')"
      ],
      "execution_count": 0,
      "outputs": [
        {
          "output_type": "stream",
          "text": [
            "Go to this URL in a browser: https://accounts.google.com/o/oauth2/auth?client_id=947318989803-6bn6qk8qdgf4n4g3pfee6491hc0brc4i.apps.googleusercontent.com&redirect_uri=urn%3aietf%3awg%3aoauth%3a2.0%3aoob&response_type=code&scope=email%20https%3a%2f%2fwww.googleapis.com%2fauth%2fdocs.test%20https%3a%2f%2fwww.googleapis.com%2fauth%2fdrive%20https%3a%2f%2fwww.googleapis.com%2fauth%2fdrive.photos.readonly%20https%3a%2f%2fwww.googleapis.com%2fauth%2fpeopleapi.readonly\n",
            "\n",
            "Enter your authorization code:\n",
            "··········\n",
            "Mounted at /content/drive\n"
          ],
          "name": "stdout"
        }
      ]
    },
    {
      "cell_type": "code",
      "metadata": {
        "id": "mjPeIoB7qF2s",
        "colab_type": "code",
        "colab": {}
      },
      "source": [
        "%reload_ext autoreload \n",
        "%autoreload 2\n",
        "%matplotlib inline"
      ],
      "execution_count": 0,
      "outputs": []
    },
    {
      "cell_type": "code",
      "metadata": {
        "id": "odfFIO88qF2w",
        "colab_type": "code",
        "colab": {}
      },
      "source": [
        "from fastai.text import * #import the text library this time"
      ],
      "execution_count": 0,
      "outputs": []
    },
    {
      "cell_type": "markdown",
      "metadata": {
        "id": "R0O-GFfgqF2z",
        "colab_type": "text"
      },
      "source": [
        "## Preparing the data"
      ]
    },
    {
      "cell_type": "markdown",
      "metadata": {
        "id": "HSm2Qkm0qF2z",
        "colab_type": "text"
      },
      "source": [
        "First let's download the dataset we are going to study. The [dataset](http://ai.stanford.edu/~amaas/data/sentiment/) has been curated by Andrew Maas et al. and contains a total of 100,000 reviews on IMDB. 25,000 of them are labelled as positive and negative for training, another 25,000 are labelled for testing (in both cases they are highly polarized). The remaning 50,000 is an additional unlabelled data (but we will find a use for it nonetheless).\n",
        "\n",
        "We'll begin with a sample we've prepared for you, so that things run quickly before going over the full dataset."
      ]
    },
    {
      "cell_type": "code",
      "metadata": {
        "id": "VpkaDYQNqF20",
        "colab_type": "code",
        "outputId": "4edc5c8e-d7cc-4f0c-b12c-f4601dc4d17d",
        "colab": {
          "base_uri": "https://localhost:8080/",
          "height": 50
        }
      },
      "source": [
        "path = untar_data(URLs.IMDB_SAMPLE) #dl data\n",
        "path.ls()"
      ],
      "execution_count": 7,
      "outputs": [
        {
          "output_type": "stream",
          "text": [
            "Downloading http://files.fast.ai/data/examples/imdb_sample\n"
          ],
          "name": "stdout"
        },
        {
          "output_type": "display_data",
          "data": {
            "text/html": [
              ""
            ],
            "text/plain": [
              "<IPython.core.display.HTML object>"
            ]
          },
          "metadata": {
            "tags": []
          }
        },
        {
          "output_type": "execute_result",
          "data": {
            "text/plain": [
              "[PosixPath('/root/.fastai/data/imdb_sample/texts.csv')]"
            ]
          },
          "metadata": {
            "tags": []
          },
          "execution_count": 7
        }
      ]
    },
    {
      "cell_type": "markdown",
      "metadata": {
        "id": "PPee0JwzqF23",
        "colab_type": "text"
      },
      "source": [
        "It only contains one csv file, let's have a look at it."
      ]
    },
    {
      "cell_type": "code",
      "metadata": {
        "id": "TmCAkykAqF24",
        "colab_type": "code",
        "outputId": "5a5a8416-9ed3-4850-e7f3-bb5d907f032b",
        "colab": {
          "base_uri": "https://localhost:8080/",
          "height": 195
        }
      },
      "source": [
        "df = pd.read_csv(path/'texts.csv') #showing examples\n",
        "df.head()"
      ],
      "execution_count": 8,
      "outputs": [
        {
          "output_type": "execute_result",
          "data": {
            "text/html": [
              "<div>\n",
              "<style scoped>\n",
              "    .dataframe tbody tr th:only-of-type {\n",
              "        vertical-align: middle;\n",
              "    }\n",
              "\n",
              "    .dataframe tbody tr th {\n",
              "        vertical-align: top;\n",
              "    }\n",
              "\n",
              "    .dataframe thead th {\n",
              "        text-align: right;\n",
              "    }\n",
              "</style>\n",
              "<table border=\"1\" class=\"dataframe\">\n",
              "  <thead>\n",
              "    <tr style=\"text-align: right;\">\n",
              "      <th></th>\n",
              "      <th>label</th>\n",
              "      <th>text</th>\n",
              "      <th>is_valid</th>\n",
              "    </tr>\n",
              "  </thead>\n",
              "  <tbody>\n",
              "    <tr>\n",
              "      <th>0</th>\n",
              "      <td>negative</td>\n",
              "      <td>Un-bleeping-believable! Meg Ryan doesn't even ...</td>\n",
              "      <td>False</td>\n",
              "    </tr>\n",
              "    <tr>\n",
              "      <th>1</th>\n",
              "      <td>positive</td>\n",
              "      <td>This is a extremely well-made film. The acting...</td>\n",
              "      <td>False</td>\n",
              "    </tr>\n",
              "    <tr>\n",
              "      <th>2</th>\n",
              "      <td>negative</td>\n",
              "      <td>Every once in a long while a movie will come a...</td>\n",
              "      <td>False</td>\n",
              "    </tr>\n",
              "    <tr>\n",
              "      <th>3</th>\n",
              "      <td>positive</td>\n",
              "      <td>Name just says it all. I watched this movie wi...</td>\n",
              "      <td>False</td>\n",
              "    </tr>\n",
              "    <tr>\n",
              "      <th>4</th>\n",
              "      <td>negative</td>\n",
              "      <td>This movie succeeds at being one of the most u...</td>\n",
              "      <td>False</td>\n",
              "    </tr>\n",
              "  </tbody>\n",
              "</table>\n",
              "</div>"
            ],
            "text/plain": [
              "      label                                               text  is_valid\n",
              "0  negative  Un-bleeping-believable! Meg Ryan doesn't even ...     False\n",
              "1  positive  This is a extremely well-made film. The acting...     False\n",
              "2  negative  Every once in a long while a movie will come a...     False\n",
              "3  positive  Name just says it all. I watched this movie wi...     False\n",
              "4  negative  This movie succeeds at being one of the most u...     False"
            ]
          },
          "metadata": {
            "tags": []
          },
          "execution_count": 8
        }
      ]
    },
    {
      "cell_type": "code",
      "metadata": {
        "id": "cW8wNaIMqF26",
        "colab_type": "code",
        "outputId": "9d0bccd8-8312-411b-a74e-00bc2ecf4d9c",
        "colab": {
          "base_uri": "https://localhost:8080/",
          "height": 54
        }
      },
      "source": [
        "df['text'][1] #showing the second line of the text column"
      ],
      "execution_count": 9,
      "outputs": [
        {
          "output_type": "execute_result",
          "data": {
            "text/plain": [
              "'This is a extremely well-made film. The acting, script and camera-work are all first-rate. The music is good, too, though it is mostly early in the film, when things are still relatively cheery. There are no really superstars in the cast, though several faces will be familiar. The entire cast does an excellent job with the script.<br /><br />But it is hard to watch, because there is no good end to a situation like the one presented. It is now fashionable to blame the British for setting Hindus and Muslims against each other, and then cruelly separating them into two countries. There is some merit in this view, but it\\'s also true that no one forced Hindus and Muslims in the region to mistreat each other as they did around the time of partition. It seems more likely that the British simply saw the tensions between the religions and were clever enough to exploit them to their own ends.<br /><br />The result is that there is much cruelty and inhumanity in the situation and this is very unpleasant to remember and to see on the screen. But it is never painted as a black-and-white case. There is baseness and nobility on both sides, and also the hope for change in the younger generation.<br /><br />There is redemption of a sort, in the end, when Puro has to make a hard choice between a man who has ruined her life, but also truly loved her, and her family which has disowned her, then later come looking for her. But by that point, she has no option that is without great pain for her.<br /><br />This film carries the message that both Muslims and Hindus have their grave faults, and also that both can be dignified and caring people. The reality of partition makes that realisation all the more wrenching, since there can never be real reconciliation across the India/Pakistan border. In that sense, it is similar to \"Mr & Mrs Iyer\".<br /><br />In the end, we were glad to have seen the film, even though the resolution was heartbreaking. If the UK and US could deal with their own histories of racism with this kind of frankness, they would certainly be better off.'"
            ]
          },
          "metadata": {
            "tags": []
          },
          "execution_count": 9
        }
      ]
    },
    {
      "cell_type": "markdown",
      "metadata": {
        "id": "2ncbyM8yqF29",
        "colab_type": "text"
      },
      "source": [
        "It contains one line per review, with the label ('negative' or 'positive'), the text and a flag to determine if it should be part of the validation set or the training set. If we ignore this flag, we can create a DataBunch containing this data in one line of code:"
      ]
    },
    {
      "cell_type": "code",
      "metadata": {
        "id": "3lSdvV0cqF29",
        "colab_type": "code",
        "outputId": "d53b531c-f5a8-446a-ed2e-e037f788fe3c",
        "colab": {
          "base_uri": "https://localhost:8080/",
          "height": 17
        }
      },
      "source": [
        "data_lm = TextDataBunch.from_csv(path, 'texts.csv') #text databunch"
      ],
      "execution_count": 10,
      "outputs": [
        {
          "output_type": "display_data",
          "data": {
            "text/html": [
              ""
            ],
            "text/plain": [
              "<IPython.core.display.HTML object>"
            ]
          },
          "metadata": {
            "tags": []
          }
        },
        {
          "output_type": "display_data",
          "data": {
            "text/html": [
              ""
            ],
            "text/plain": [
              "<IPython.core.display.HTML object>"
            ]
          },
          "metadata": {
            "tags": []
          }
        }
      ]
    },
    {
      "cell_type": "markdown",
      "metadata": {
        "id": "7s7Usey_qF3B",
        "colab_type": "text"
      },
      "source": [
        "By executing this line a process was launched that took a bit of time. Let's dig a bit into it. Images could be fed (almost) directly into a model because they're just a big array of pixel values that are floats between 0 and 1. A text is composed of words, and we can't apply mathematical functions to them directly. We first have to convert them to numbers. This is done in two differents steps: tokenization and numericalization. A `TextDataBunch` does all of that behind the scenes for you.\n",
        "\n",
        "Before we delve into the explanations, let's take the time to save the things that were calculated."
      ]
    },
    {
      "cell_type": "code",
      "metadata": {
        "id": "bi2DOBRXqF3B",
        "colab_type": "code",
        "colab": {}
      },
      "source": [
        "data_lm.save() #saving what we have"
      ],
      "execution_count": 0,
      "outputs": []
    },
    {
      "cell_type": "markdown",
      "metadata": {
        "id": "KUBuGN8-qF3E",
        "colab_type": "text"
      },
      "source": [
        "Next time we launch this notebook, we can skip the cell above that took a bit of time (and that will take a lot more when you get to the full dataset) and load those results like this:"
      ]
    },
    {
      "cell_type": "code",
      "metadata": {
        "id": "JJ9n4LuzqF3E",
        "colab_type": "code",
        "colab": {}
      },
      "source": [
        "data = load_data(path) #load data"
      ],
      "execution_count": 0,
      "outputs": []
    },
    {
      "cell_type": "markdown",
      "metadata": {
        "id": "ghJJGaNTqF3H",
        "colab_type": "text"
      },
      "source": [
        "### Tokenization"
      ]
    },
    {
      "cell_type": "markdown",
      "metadata": {
        "id": "rfleQdOdqF3H",
        "colab_type": "text"
      },
      "source": [
        "The first step of processing we make the texts go through is to split the raw sentences into words, or more exactly tokens. The easiest way to do this would be to split the string on spaces, but we can be smarter:\n",
        "\n",
        "- we need to take care of punctuation\n",
        "- some words are contractions of two different words, like isn't or don't\n",
        "- we may need to clean some parts of our texts, if there's HTML code for instance\n",
        "\n",
        "To see what the tokenizer had done behind the scenes, let's have a look at a few texts in a batch."
      ]
    },
    {
      "cell_type": "code",
      "metadata": {
        "id": "shqQO_HCqF3H",
        "colab_type": "code",
        "outputId": "932c9320-d2ae-4dcc-a300-d681bb64b998",
        "colab": {
          "base_uri": "https://localhost:8080/",
          "height": 346
        }
      },
      "source": [
        "data = TextClasDataBunch.from_csv(path, 'texts.csv') #load the data tokenized\n",
        "data.show_batch() #show a batch"
      ],
      "execution_count": 0,
      "outputs": [
        {
          "output_type": "display_data",
          "data": {
            "text/html": [
              ""
            ],
            "text/plain": [
              "<IPython.core.display.HTML object>"
            ]
          },
          "metadata": {
            "tags": []
          }
        },
        {
          "output_type": "display_data",
          "data": {
            "text/html": [
              ""
            ],
            "text/plain": [
              "<IPython.core.display.HTML object>"
            ]
          },
          "metadata": {
            "tags": []
          }
        },
        {
          "output_type": "display_data",
          "data": {
            "text/html": [
              "<table border=\"1\" class=\"dataframe\">\n",
              "  <thead>\n",
              "    <tr style=\"text-align: right;\">\n",
              "      <th>text</th>\n",
              "      <th>target</th>\n",
              "    </tr>\n",
              "  </thead>\n",
              "  <tbody>\n",
              "    <tr>\n",
              "      <td>xxbos xxmaj raising xxmaj victor xxmaj vargas : a xxmaj review \\n \\n  xxmaj you know , xxmaj raising xxmaj victor xxmaj vargas is like sticking your hands into a big , steaming bowl of xxunk . xxmaj it 's warm and gooey , but you 're not sure if it feels right . xxmaj try as i might , no matter how warm and gooey xxmaj raising xxmaj</td>\n",
              "      <td>negative</td>\n",
              "    </tr>\n",
              "    <tr>\n",
              "      <td>xxbos xxup the xxup shop xxup around xxup the xxup corner is one of the xxunk and most feel - good romantic comedies ever made . xxmaj there 's just no getting around that , and it 's hard to actually put one 's feeling for this film into words . xxmaj it 's not one of those films that tries too hard , nor does it come up with</td>\n",
              "      <td>positive</td>\n",
              "    </tr>\n",
              "    <tr>\n",
              "      <td>xxbos xxmaj this film sat on my xxmaj tivo for weeks before i watched it . i dreaded a self - indulgent xxunk flick about relationships gone bad . i was wrong ; this was an xxunk xxunk into the screwed - up xxunk of xxmaj new xxmaj yorkers . \\n \\n  xxmaj the format is the same as xxmaj max xxmaj xxunk ' \" xxmaj la xxmaj ronde</td>\n",
              "      <td>positive</td>\n",
              "    </tr>\n",
              "    <tr>\n",
              "      <td>xxbos xxmaj many neglect that this is n't just a classic due to the fact that it 's the first xxup 3d game , or even the first xxunk - up . xxmaj it 's also one of the first stealth games , one of the xxunk definitely the first ) truly claustrophobic games , and just a pretty well - rounded gaming experience in general . xxmaj with graphics</td>\n",
              "      <td>positive</td>\n",
              "    </tr>\n",
              "    <tr>\n",
              "      <td>xxbos \\n \\n  i 'm sure things did n't exactly go the same way in the real life of xxmaj homer xxmaj hickam as they did in the film adaptation of his book , xxmaj rocket xxmaj boys , but the movie \" xxmaj october xxmaj sky \" ( an xxunk of the book 's title ) is good enough to stand alone . i have not read xxmaj</td>\n",
              "      <td>positive</td>\n",
              "    </tr>\n",
              "  </tbody>\n",
              "</table>"
            ],
            "text/plain": [
              "<IPython.core.display.HTML object>"
            ]
          },
          "metadata": {
            "tags": []
          }
        }
      ]
    },
    {
      "cell_type": "markdown",
      "metadata": {
        "id": "JZEhf1V-qF3L",
        "colab_type": "text"
      },
      "source": [
        "The texts are truncated at 100 tokens for more readability. We can see that it did more than just split on space and punctuation symbols: \n",
        "- the \"'s\" are grouped together in one token\n",
        "- the contractions are separated like this: \"did\", \"n't\"\n",
        "- content has been cleaned for any HTML symbol and lower cased\n",
        "- there are several special tokens (all those that begin by xx), to replace unknown tokens (see below) or to introduce different text fields (here we only have one)."
      ]
    },
    {
      "cell_type": "markdown",
      "metadata": {
        "id": "U3nfkwELqF3L",
        "colab_type": "text"
      },
      "source": [
        "### Numericalization"
      ]
    },
    {
      "cell_type": "markdown",
      "metadata": {
        "id": "lIDFZyVsqF3M",
        "colab_type": "text"
      },
      "source": [
        "Once we have extracted tokens from our texts, we convert to integers by creating a list of all the words used. We only keep the ones that appear at least twice with a maximum vocabulary size of 60,000 (by default) and replace the ones that don't make the cut by the unknown token `UNK`.\n",
        "\n",
        "The correspondance from ids to tokens is stored in the `vocab` attribute of our datasets, in a dictionary called `itos` (for int to string)."
      ]
    },
    {
      "cell_type": "code",
      "metadata": {
        "id": "TiBzKV9bqF3M",
        "colab_type": "code",
        "outputId": "c08a9574-0899-448b-c61f-db9e915075fe",
        "colab": {
          "base_uri": "https://localhost:8080/",
          "height": 185
        }
      },
      "source": [
        "data.vocab.itos[:10] #from int to string function / tokens"
      ],
      "execution_count": 0,
      "outputs": [
        {
          "output_type": "execute_result",
          "data": {
            "text/plain": [
              "['xxunk',\n",
              " 'xxpad',\n",
              " 'xxbos',\n",
              " 'xxeos',\n",
              " 'xxfld',\n",
              " 'xxmaj',\n",
              " 'xxup',\n",
              " 'xxrep',\n",
              " 'xxwrep',\n",
              " 'the']"
            ]
          },
          "metadata": {
            "tags": []
          },
          "execution_count": 17
        }
      ]
    },
    {
      "cell_type": "markdown",
      "metadata": {
        "id": "-gxH0MQPqF3P",
        "colab_type": "text"
      },
      "source": [
        "And if we look at what a what's in our datasets, we'll see the tokenized text as a representation:"
      ]
    },
    {
      "cell_type": "code",
      "metadata": {
        "id": "hKkmWSPIqF3P",
        "colab_type": "code",
        "outputId": "db7ccc63-6017-4b9b-dfde-deb751f609f3",
        "colab": {
          "base_uri": "https://localhost:8080/",
          "height": 54
        }
      },
      "source": [
        "data.train_ds[0][0] #first row of text, tokenized"
      ],
      "execution_count": 0,
      "outputs": [
        {
          "output_type": "execute_result",
          "data": {
            "text/plain": [
              "Text xxbos i remember i saw this cartoon when i was 6 or 7 . xxmaj my grandfather picked up the video of it for free at the mall . i remember that it really sucked . xxmaj the plot had no sense . i hated the fox that became xxmaj casper 's friend . xxmaj he was so stupid ! xxmaj casper xxunk his head off if he could n't find a friend . xxmaj so what ? xxmaj get over it ! xxmaj the only good part and i do n't want to sound mean - spirited was when the fox got shot and died at the end . i laughed my head off in xxunk because this cartoon sucked so much . xxmaj the bad news is the fox xxunk and becomes a ghost . i wish he had stayed dead . i think i even gave the video of this to somebody because i hated it . xxmaj no wonder they were offering it for free at the mall . xxmaj if you have a child do n't let them watch this . xxmaj they will probably agree with me that it sucks ."
            ]
          },
          "metadata": {
            "tags": []
          },
          "execution_count": 18
        }
      ]
    },
    {
      "cell_type": "markdown",
      "metadata": {
        "id": "a4LCUlRYqF3S",
        "colab_type": "text"
      },
      "source": [
        "But the underlying data is all numbers"
      ]
    },
    {
      "cell_type": "code",
      "metadata": {
        "id": "nNmSEORmqF3S",
        "colab_type": "code",
        "outputId": "ba53ed21-4d34-412f-e09c-47d82f796c70",
        "colab": {
          "base_uri": "https://localhost:8080/",
          "height": 34
        }
      },
      "source": [
        "data.train_ds[0][0].data[:10] #looking at the data in numbers, first 10"
      ],
      "execution_count": 0,
      "outputs": [
        {
          "output_type": "execute_result",
          "data": {
            "text/plain": [
              "array([  2,  19, 409,  19, 236,  20, 863,  72,  19,  26])"
            ]
          },
          "metadata": {
            "tags": []
          },
          "execution_count": 19
        }
      ]
    },
    {
      "cell_type": "markdown",
      "metadata": {
        "id": "m7gvzkAKqF3V",
        "colab_type": "text"
      },
      "source": [
        "### With the data block API"
      ]
    },
    {
      "cell_type": "markdown",
      "metadata": {
        "id": "kYdVbhIxqF3V",
        "colab_type": "text"
      },
      "source": [
        "We can use the data block API with NLP and have a lot more flexibility than what the default factory methods offer. In the previous example for instance, the data was randomly split between train and validation instead of reading the third column of the csv.\n",
        "\n",
        "With the data block API though, we have to manually call the tokenize and numericalize steps. This allows more flexibility, and if you're not using the defaults from fastai, the various arguments to pass will appear in the step they're revelant, so it'll be more readable."
      ]
    },
    {
      "cell_type": "code",
      "metadata": {
        "id": "-oDv1LCFqF3W",
        "colab_type": "code",
        "outputId": "d26af3c5-df63-44ed-dc34-e72dc7e7f0af",
        "colab": {
          "base_uri": "https://localhost:8080/",
          "height": 17
        }
      },
      "source": [
        "data = (TextList.from_csv(path, 'texts.csv', cols='text') #load text data as csv\n",
        "                .split_from_df(col=2) #split from dataframe\n",
        "                .label_from_df(cols=0) #label from dataframe\n",
        "                .databunch()) #loading as databunch"
      ],
      "execution_count": 0,
      "outputs": [
        {
          "output_type": "display_data",
          "data": {
            "text/html": [
              ""
            ],
            "text/plain": [
              "<IPython.core.display.HTML object>"
            ]
          },
          "metadata": {
            "tags": []
          }
        },
        {
          "output_type": "display_data",
          "data": {
            "text/html": [
              ""
            ],
            "text/plain": [
              "<IPython.core.display.HTML object>"
            ]
          },
          "metadata": {
            "tags": []
          }
        }
      ]
    },
    {
      "cell_type": "markdown",
      "metadata": {
        "id": "Xq-FC5vvqF3Z",
        "colab_type": "text"
      },
      "source": [
        "## Language model"
      ]
    },
    {
      "cell_type": "markdown",
      "metadata": {
        "id": "wT6OxuXDqF3Z",
        "colab_type": "text"
      },
      "source": [
        "Note that language models can use a lot of GPU, so you may need to decrease batchsize here."
      ]
    },
    {
      "cell_type": "code",
      "metadata": {
        "id": "fqyQMVp_qF3a",
        "colab_type": "code",
        "colab": {}
      },
      "source": [
        "bs=48 #batchsize"
      ],
      "execution_count": 0,
      "outputs": []
    },
    {
      "cell_type": "markdown",
      "metadata": {
        "id": "hP_OjKOYqF3f",
        "colab_type": "text"
      },
      "source": [
        "Now let's grab the full dataset for what follows."
      ]
    },
    {
      "cell_type": "code",
      "metadata": {
        "id": "hWs0Cua5qF3g",
        "colab_type": "code",
        "outputId": "81e9b594-8509-43a7-e575-c10669979eb9",
        "colab": {
          "base_uri": "https://localhost:8080/",
          "height": 151
        }
      },
      "source": [
        "path = untar_data(URLs.IMDB) #dl full dataset\n",
        "path.ls()"
      ],
      "execution_count": 22,
      "outputs": [
        {
          "output_type": "execute_result",
          "data": {
            "text/plain": [
              "[PosixPath('/root/.fastai/data/imdb/tmp_lm'),\n",
              " PosixPath('/root/.fastai/data/imdb/imdb.vocab'),\n",
              " PosixPath('/root/.fastai/data/imdb/README'),\n",
              " PosixPath('/root/.fastai/data/imdb/data_clas.pkl'),\n",
              " PosixPath('/root/.fastai/data/imdb/unsup'),\n",
              " PosixPath('/root/.fastai/data/imdb/tmp_clas'),\n",
              " PosixPath('/root/.fastai/data/imdb/train'),\n",
              " PosixPath('/root/.fastai/data/imdb/test')]"
            ]
          },
          "metadata": {
            "tags": []
          },
          "execution_count": 22
        }
      ]
    },
    {
      "cell_type": "code",
      "metadata": {
        "id": "OtDb0FC7qF3i",
        "colab_type": "code",
        "outputId": "f89cc102-87d2-4254-e3d5-603f14ac7af6",
        "colab": {
          "base_uri": "https://localhost:8080/",
          "height": 84
        }
      },
      "source": [
        "(path/'train').ls() #checking the train folder"
      ],
      "execution_count": 23,
      "outputs": [
        {
          "output_type": "execute_result",
          "data": {
            "text/plain": [
              "[PosixPath('/root/.fastai/data/imdb/train/pos'),\n",
              " PosixPath('/root/.fastai/data/imdb/train/neg'),\n",
              " PosixPath('/root/.fastai/data/imdb/train/unsupBow.feat'),\n",
              " PosixPath('/root/.fastai/data/imdb/train/labeledBow.feat')]"
            ]
          },
          "metadata": {
            "tags": []
          },
          "execution_count": 23
        }
      ]
    },
    {
      "cell_type": "markdown",
      "metadata": {
        "id": "awV9hNunqF3k",
        "colab_type": "text"
      },
      "source": [
        "The reviews are in a training and test set following an imagenet structure. The only difference is that there is an `unsup` folder on top of `train` and `test` that contains the unlabelled data.\n",
        "\n",
        "We're not going to train a model that classifies the reviews from scratch. Like in computer vision, we'll use a model pretrained on a bigger dataset (a cleaned subset of wikipedia called [wikitext-103](https://einstein.ai/research/blog/the-wikitext-long-term-dependency-language-modeling-dataset)). That model has been trained to guess what the next word is, its input being all the previous words. It has a recurrent structure and a hidden state that is updated each time it sees a new word. This hidden state thus contains information about the sentence up to that point.\n",
        "\n",
        "We are going to use that 'knowledge' of the English language to build our classifier, but first, like for computer vision, we need to fine-tune the pretrained model to our particular dataset. Because the English of the reviews left by people on IMDB isn't the same as the English of wikipedia, we'll need to adjust the parameters of our model by a little bit. Plus there might be some words that would be extremely common in the reviews dataset but would be barely present in wikipedia, and therefore might not be part of the vocabulary the model was trained on."
      ]
    },
    {
      "cell_type": "markdown",
      "metadata": {
        "id": "nWugUewqqF3l",
        "colab_type": "text"
      },
      "source": [
        "This is where the unlabelled data is going to be useful to us, as we can use it to fine-tune our model. Let's create our data object with the data block API (next line takes a few minutes)."
      ]
    },
    {
      "cell_type": "code",
      "metadata": {
        "id": "mKgW9L-5qF3l",
        "colab_type": "code",
        "outputId": "1a0ddf3b-3af9-431c-bd88-e61cd009882a",
        "colab": {
          "base_uri": "https://localhost:8080/",
          "height": 17
        }
      },
      "source": [
        "data_lm = (TextList.from_folder(path)\n",
        "           #Inputs: all the text files in path\n",
        "            .filter_by_folder(include=['train', 'test', 'unsup']) \n",
        "           #We may have other temp folders that contain text files so we only keep what's in train and test\n",
        "            .split_by_rand_pct(0.1)\n",
        "           #We randomly split and keep 10% (10,000 reviews) for validation\n",
        "            .label_for_lm()           \n",
        "           #We want to do a language model so we label accordingly\n",
        "            .databunch(bs=bs)) #loading databunch in batches \n",
        "data_lm.save('data_lm.pkl') #saving it"
      ],
      "execution_count": 24,
      "outputs": [
        {
          "output_type": "display_data",
          "data": {
            "text/html": [
              ""
            ],
            "text/plain": [
              "<IPython.core.display.HTML object>"
            ]
          },
          "metadata": {
            "tags": []
          }
        },
        {
          "output_type": "display_data",
          "data": {
            "text/html": [
              ""
            ],
            "text/plain": [
              "<IPython.core.display.HTML object>"
            ]
          },
          "metadata": {
            "tags": []
          }
        }
      ]
    },
    {
      "cell_type": "markdown",
      "metadata": {
        "id": "VK_hnQgcqF3n",
        "colab_type": "text"
      },
      "source": [
        "We have to use a special kind of `TextDataBunch` for the language model, that ignores the labels (that's why we put 0 everywhere), will shuffle the texts at each epoch before concatenating them all together (only for training, we don't shuffle for the validation set) and will send batches that read that text in order with targets that are the next word in the sentence.\n",
        "\n",
        "The line before being a bit long, we want to load quickly the final ids by using the following cell."
      ]
    },
    {
      "cell_type": "code",
      "metadata": {
        "id": "qpUTddrIqF3n",
        "colab_type": "code",
        "colab": {}
      },
      "source": [
        "data_lm = load_data(path, 'data_lm.pkl', bs=bs) #load the databunch we just saved"
      ],
      "execution_count": 0,
      "outputs": []
    },
    {
      "cell_type": "code",
      "metadata": {
        "id": "PjrFjiqMqF3p",
        "colab_type": "code",
        "outputId": "31dbaf29-a6d0-4678-bbce-5904b2b09b9e",
        "colab": {
          "base_uri": "https://localhost:8080/",
          "height": 346
        }
      },
      "source": [
        "data_lm.show_batch() #show "
      ],
      "execution_count": 26,
      "outputs": [
        {
          "output_type": "display_data",
          "data": {
            "text/html": [
              "<table border=\"1\" class=\"dataframe\">\n",
              "  <thead>\n",
              "    <tr style=\"text-align: right;\">\n",
              "      <th>idx</th>\n",
              "      <th>text</th>\n",
              "    </tr>\n",
              "  </thead>\n",
              "  <tbody>\n",
              "    <tr>\n",
              "      <td>0</td>\n",
              "      <td>the delightful \" xxmaj when xxmaj harry xxmaj met xxmaj sally ... \" offered a decade ago . xxmaj bad script , bad direction , bad acting equals bad movie . xxmaj every acting \" effort \" in this movie pretty much sucks , but special mention must go to xxmaj rita xxmaj wilson ( xxup aka xxmaj mrs. xxmaj hanks ) . i had no idea she was this</td>\n",
              "    </tr>\n",
              "    <tr>\n",
              "      <td>1</td>\n",
              "      <td>history of war films . i really do n't know what else to say about this movie other than do n't watch it , the acting is absolutely shocking , the combat scenes seem as if they were without any expertise on infantry tactics and or training and it is just generally very cheesy . i personally take it as an insult to the cap badge of the parachute regiment</td>\n",
              "    </tr>\n",
              "    <tr>\n",
              "      <td>2</td>\n",
              "      <td>. xxmaj this is also xxunk and at times you ca n't even hear some of the characters , while the others are clearly understandable , even when they are in the same scene 's at times . \\n \\n  xxmaj also the story is just plain ridicules . i mean , an xxmaj egyptian mummy buried somewhere in the good old xxup usa ? xxmaj it 's just</td>\n",
              "    </tr>\n",
              "    <tr>\n",
              "      <td>3</td>\n",
              "      <td>dialog that i got from the xxmaj english subtitles ; a lot of it is quite clever . xxmaj there is a little strong language , a couple of hints at sexuality and several instances of disturbing content . xxmaj the xxup dvd comes with an excellent director 's xxunk sans xxmaj caro , since he does not care for them ) , two featurettes that i will review on</td>\n",
              "    </tr>\n",
              "    <tr>\n",
              "      <td>4</td>\n",
              "      <td>xxmaj they slept together and then boom ! xxmaj they 're married ? xxmaj how come ? xxmaj what compelled this elusive bachelor to get hitch with this seemingly loose girl ? xxmaj once again , there is no logic here . xxmaj to be contrite about it , there is simply a lack of progression . \\n \\n  xxmaj the movie seriously underestimates the intelligence of the xxmaj</td>\n",
              "    </tr>\n",
              "  </tbody>\n",
              "</table>"
            ],
            "text/plain": [
              "<IPython.core.display.HTML object>"
            ]
          },
          "metadata": {
            "tags": []
          }
        }
      ]
    },
    {
      "cell_type": "markdown",
      "metadata": {
        "id": "YGaCetE4qF3r",
        "colab_type": "text"
      },
      "source": [
        "We can then put this in a learner object very easily with a model loaded with the pretrained weights. They'll be downloaded the first time you'll execute the following line and stored in `~/.fastai/models/` (or elsewhere if you specified different paths in your config file)."
      ]
    },
    {
      "cell_type": "code",
      "metadata": {
        "id": "Qt1CKcaJqF3s",
        "colab_type": "code",
        "colab": {}
      },
      "source": [
        "learn = language_model_learner(data_lm, AWD_LSTM, drop_mult=0.3) #loading the model, an LSTM made for NLP"
      ],
      "execution_count": 0,
      "outputs": []
    },
    {
      "cell_type": "code",
      "metadata": {
        "id": "Mi5SifoUqF3v",
        "colab_type": "code",
        "outputId": "83a2b692-9ff3-4f54-da26-9386bf6748f7",
        "colab": {
          "base_uri": "https://localhost:8080/",
          "height": 110
        }
      },
      "source": [
        "learn.lr_find() #finding the learning rate"
      ],
      "execution_count": 28,
      "outputs": [
        {
          "output_type": "display_data",
          "data": {
            "text/html": [
              "\n",
              "    <div>\n",
              "        <style>\n",
              "            /* Turns off some styling */\n",
              "            progress {\n",
              "                /* gets rid of default border in Firefox and Opera. */\n",
              "                border: none;\n",
              "                /* Needs to be in here for Safari polyfill so background images work as expected. */\n",
              "                background-size: auto;\n",
              "            }\n",
              "            .progress-bar-interrupted, .progress-bar-interrupted::-webkit-progress-bar {\n",
              "                background: #F44336;\n",
              "            }\n",
              "        </style>\n",
              "      <progress value='0' class='' max='1', style='width:300px; height:20px; vertical-align: middle;'></progress>\n",
              "      0.00% [0/1 00:00<00:00]\n",
              "    </div>\n",
              "    \n",
              "<table border=\"1\" class=\"dataframe\">\n",
              "  <thead>\n",
              "    <tr style=\"text-align: left;\">\n",
              "      <th>epoch</th>\n",
              "      <th>train_loss</th>\n",
              "      <th>valid_loss</th>\n",
              "      <th>accuracy</th>\n",
              "      <th>time</th>\n",
              "    </tr>\n",
              "  </thead>\n",
              "  <tbody>\n",
              "  </tbody>\n",
              "</table><p>\n",
              "\n",
              "    <div>\n",
              "        <style>\n",
              "            /* Turns off some styling */\n",
              "            progress {\n",
              "                /* gets rid of default border in Firefox and Opera. */\n",
              "                border: none;\n",
              "                /* Needs to be in here for Safari polyfill so background images work as expected. */\n",
              "                background-size: auto;\n",
              "            }\n",
              "            .progress-bar-interrupted, .progress-bar-interrupted::-webkit-progress-bar {\n",
              "                background: #F44336;\n",
              "            }\n",
              "        </style>\n",
              "      <progress value='99' class='' max='8037', style='width:300px; height:20px; vertical-align: middle;'></progress>\n",
              "      1.23% [99/8037 00:18<25:08 11.6364]\n",
              "    </div>\n",
              "    "
            ],
            "text/plain": [
              "<IPython.core.display.HTML object>"
            ]
          },
          "metadata": {
            "tags": []
          }
        },
        {
          "output_type": "stream",
          "text": [
            "LR Finder is complete, type {learner_name}.recorder.plot() to see the graph.\n"
          ],
          "name": "stdout"
        }
      ]
    },
    {
      "cell_type": "code",
      "metadata": {
        "id": "7bZWKDmtqF3y",
        "colab_type": "code",
        "outputId": "08507095-957b-404d-f68a-2bcd35e59e22",
        "colab": {
          "base_uri": "https://localhost:8080/",
          "height": 279
        }
      },
      "source": [
        "learn.recorder.plot(skip_end=15) #plotting "
      ],
      "execution_count": 29,
      "outputs": [
        {
          "output_type": "display_data",
          "data": {
            "image/png": "[encoded data removed]",
            "text/plain": [
              "<Figure size 432x288 with 1 Axes>"
            ]
          },
          "metadata": {
            "tags": []
          }
        }
      ]
    },
    {
      "cell_type": "code",
      "metadata": {
        "id": "EX9ybCFCqF30",
        "colab_type": "code",
        "outputId": "0d00714a-88a1-4ffe-cc6b-f0b2a9ae988a",
        "colab": {
          "base_uri": "https://localhost:8080/",
          "height": 77
        }
      },
      "source": [
        "learn.fit_one_cycle(1, 1e-2, moms=(0.8,0.7)) #fit model"
      ],
      "execution_count": 30,
      "outputs": [
        {
          "output_type": "display_data",
          "data": {
            "text/html": [
              "<table border=\"1\" class=\"dataframe\">\n",
              "  <thead>\n",
              "    <tr style=\"text-align: left;\">\n",
              "      <th>epoch</th>\n",
              "      <th>train_loss</th>\n",
              "      <th>valid_loss</th>\n",
              "      <th>accuracy</th>\n",
              "      <th>time</th>\n",
              "    </tr>\n",
              "  </thead>\n",
              "  <tbody>\n",
              "    <tr>\n",
              "      <td>0</td>\n",
              "      <td>4.170187</td>\n",
              "      <td>4.014470</td>\n",
              "      <td>0.296463</td>\n",
              "      <td>26:16</td>\n",
              "    </tr>\n",
              "  </tbody>\n",
              "</table>"
            ],
            "text/plain": [
              "<IPython.core.display.HTML object>"
            ]
          },
          "metadata": {
            "tags": []
          }
        }
      ]
    },
    {
      "cell_type": "code",
      "metadata": {
        "id": "z-OFOLVRqF32",
        "colab_type": "code",
        "colab": {}
      },
      "source": [
        "learn.save('fit_head') #save"
      ],
      "execution_count": 0,
      "outputs": []
    },
    {
      "cell_type": "code",
      "metadata": {
        "id": "tdO_wSaBqF34",
        "colab_type": "code",
        "colab": {}
      },
      "source": [
        "learn.load('fit_head'); #load"
      ],
      "execution_count": 0,
      "outputs": []
    },
    {
      "cell_type": "markdown",
      "metadata": {
        "id": "JGXL1H8NqF36",
        "colab_type": "text"
      },
      "source": [
        "To complete the fine-tuning, we can then unfeeze and launch a new training."
      ]
    },
    {
      "cell_type": "code",
      "metadata": {
        "id": "tKZ_zOh7qF37",
        "colab_type": "code",
        "colab": {}
      },
      "source": [
        "learn.unfreeze() #unfreeze to train again"
      ],
      "execution_count": 0,
      "outputs": []
    },
    {
      "cell_type": "code",
      "metadata": {
        "id": "mt9CIu-7qF39",
        "colab_type": "code",
        "outputId": "fa9d0e51-03aa-4317-fbd9-d86c80bcb263",
        "colab": {
          "base_uri": "https://localhost:8080/",
          "height": 170
        }
      },
      "source": [
        "learn.fit_one_cycle(10, 1e-3, moms=(0.8,0.7)) #train on 10 epochs"
      ],
      "execution_count": 34,
      "outputs": [
        {
          "output_type": "display_data",
          "data": {
            "text/html": [
              "\n",
              "    <div>\n",
              "        <style>\n",
              "            /* Turns off some styling */\n",
              "            progress {\n",
              "                /* gets rid of default border in Firefox and Opera. */\n",
              "                border: none;\n",
              "                /* Needs to be in here for Safari polyfill so background images work as expected. */\n",
              "                background-size: auto;\n",
              "            }\n",
              "            .progress-bar-interrupted, .progress-bar-interrupted::-webkit-progress-bar {\n",
              "                background: #F44336;\n",
              "            }\n",
              "        </style>\n",
              "      <progress value='2' class='' max='10', style='width:300px; height:20px; vertical-align: middle;'></progress>\n",
              "      20.00% [2/10 53:08<3:32:33]\n",
              "    </div>\n",
              "    \n",
              "<table border=\"1\" class=\"dataframe\">\n",
              "  <thead>\n",
              "    <tr style=\"text-align: left;\">\n",
              "      <th>epoch</th>\n",
              "      <th>train_loss</th>\n",
              "      <th>valid_loss</th>\n",
              "      <th>accuracy</th>\n",
              "      <th>time</th>\n",
              "    </tr>\n",
              "  </thead>\n",
              "  <tbody>\n",
              "    <tr>\n",
              "      <td>0</td>\n",
              "      <td>3.872195</td>\n",
              "      <td>3.834534</td>\n",
              "      <td>0.314407</td>\n",
              "      <td>26:32</td>\n",
              "    </tr>\n",
              "    <tr>\n",
              "      <td>1</td>\n",
              "      <td>3.835109</td>\n",
              "      <td>3.797313</td>\n",
              "      <td>0.321006</td>\n",
              "      <td>26:35</td>\n",
              "    </tr>\n",
              "  </tbody>\n",
              "</table><p>\n",
              "\n",
              "    <div>\n",
              "        <style>\n",
              "            /* Turns off some styling */\n",
              "            progress {\n",
              "                /* gets rid of default border in Firefox and Opera. */\n",
              "                border: none;\n",
              "                /* Needs to be in here for Safari polyfill so background images work as expected. */\n",
              "                background-size: auto;\n",
              "            }\n",
              "            .progress-bar-interrupted, .progress-bar-interrupted::-webkit-progress-bar {\n",
              "                background: #F44336;\n",
              "            }\n",
              "        </style>\n",
              "      <progress value='3232' class='' max='8037', style='width:300px; height:20px; vertical-align: middle;'></progress>\n",
              "      40.21% [3232/8037 10:18<15:19 3.8107]\n",
              "    </div>\n",
              "    "
            ],
            "text/plain": [
              "<IPython.core.display.HTML object>"
            ]
          },
          "metadata": {
            "tags": []
          }
        },
        {
          "output_type": "stream",
          "text": [
            "Buffered data was truncated after reaching the output size limit."
          ],
          "name": "stdout"
        }
      ]
    },
    {
      "cell_type": "code",
      "metadata": {
        "id": "mYwrJaNyqF3_",
        "colab_type": "code",
        "colab": {}
      },
      "source": [
        "learn.save('fine_tuned')"
      ],
      "execution_count": 0,
      "outputs": []
    },
    {
      "cell_type": "markdown",
      "metadata": {
        "id": "UizBeg5vqF4C",
        "colab_type": "text"
      },
      "source": [
        "How good is our model? Well let's try to see what it predicts after a few given words."
      ]
    },
    {
      "cell_type": "code",
      "metadata": {
        "id": "kB8VaBZaqF4C",
        "colab_type": "code",
        "colab": {}
      },
      "source": [
        "learn.load('fine_tuned');"
      ],
      "execution_count": 0,
      "outputs": []
    },
    {
      "cell_type": "code",
      "metadata": {
        "id": "UaOtFOh6qF4F",
        "colab_type": "code",
        "colab": {}
      },
      "source": [
        "TEXT = \"I liked this movie because\"\n",
        "N_WORDS = 40\n",
        "N_SENTENCES = 2"
      ],
      "execution_count": 0,
      "outputs": []
    },
    {
      "cell_type": "code",
      "metadata": {
        "id": "GcPe-manqF4H",
        "colab_type": "code",
        "outputId": "c5b85aa2-00e6-48ca-d86e-8a8a2a5cb2b4",
        "colab": {
          "base_uri": "https://localhost:8080/",
          "height": 70
        }
      },
      "source": [
        "print(\"\\n\".join(learn.predict(TEXT, N_WORDS, temperature=0.75) for _ in range(N_SENTENCES)))"
      ],
      "execution_count": 38,
      "outputs": [
        {
          "output_type": "stream",
          "text": [
            "I liked this movie because it makes me appreciate most of the life that Tom Hanks had in his career , and did n't really like him at all , i felt he had to be one of the greatest actors of all\n",
            "I liked this movie because it was a very interesting film . i thought it was pretty good ( and it was a good movie , if you are Indian ) . But the acting IS great . The script was\n"
          ],
          "name": "stdout"
        }
      ]
    },
    {
      "cell_type": "markdown",
      "metadata": {
        "id": "inA0ncKvqF4K",
        "colab_type": "text"
      },
      "source": [
        "We have to save not only the model, but also its encoder, the part that's responsible for creating and updating the hidden state. For the next part, we don't care about the part that tries to guess the next word."
      ]
    },
    {
      "cell_type": "code",
      "metadata": {
        "id": "pAOU1pjYqF4L",
        "colab_type": "code",
        "colab": {}
      },
      "source": [
        "learn.save_encoder('fine_tuned_enc')"
      ],
      "execution_count": 0,
      "outputs": []
    },
    {
      "cell_type": "markdown",
      "metadata": {
        "id": "mcl8TgbVqF4O",
        "colab_type": "text"
      },
      "source": [
        "## Classifier"
      ]
    },
    {
      "cell_type": "markdown",
      "metadata": {
        "id": "28wPGz5kqF4O",
        "colab_type": "text"
      },
      "source": [
        "Now, we'll create a new data object that only grabs the labelled data and keeps those labels. Again, this line takes a bit of time."
      ]
    },
    {
      "cell_type": "code",
      "metadata": {
        "id": "5AU3O5_sqF4O",
        "colab_type": "code",
        "colab": {}
      },
      "source": [
        "path = untar_data(URLs.IMDB)"
      ],
      "execution_count": 0,
      "outputs": []
    },
    {
      "cell_type": "code",
      "metadata": {
        "id": "kchHggL0qF4Q",
        "colab_type": "code",
        "colab": {
          "base_uri": "https://localhost:8080/",
          "height": 17
        },
        "outputId": "e89131a5-8bdb-4961-ba92-3ebc725e80e8"
      },
      "source": [
        "data_clas = (TextList.from_folder(path, vocab=data_lm.vocab)\n",
        "             #grab all the text files in path\n",
        "             .split_by_folder(valid='test')\n",
        "             #split by train and valid folder (that only keeps 'train' and 'test' so no need to filter)\n",
        "             .label_from_folder(classes=['neg', 'pos'])\n",
        "             #label them all with their folders\n",
        "             .databunch(bs=bs))\n",
        "\n",
        "data_clas.save('data_clas.pkl')"
      ],
      "execution_count": 41,
      "outputs": [
        {
          "output_type": "display_data",
          "data": {
            "text/html": [
              ""
            ],
            "text/plain": [
              "<IPython.core.display.HTML object>"
            ]
          },
          "metadata": {
            "tags": []
          }
        },
        {
          "output_type": "display_data",
          "data": {
            "text/html": [
              ""
            ],
            "text/plain": [
              "<IPython.core.display.HTML object>"
            ]
          },
          "metadata": {
            "tags": []
          }
        }
      ]
    },
    {
      "cell_type": "code",
      "metadata": {
        "id": "cZ4ZW2klqF4U",
        "colab_type": "code",
        "colab": {}
      },
      "source": [
        "data_clas = load_data(path, 'data_clas.pkl', bs=48)"
      ],
      "execution_count": 0,
      "outputs": []
    },
    {
      "cell_type": "code",
      "metadata": {
        "id": "D0QzXHlXqF4Z",
        "colab_type": "code",
        "outputId": "0a8e789a-7c08-4c96-ba81-ac0168a6ed13",
        "colab": {
          "base_uri": "https://localhost:8080/",
          "height": 363
        }
      },
      "source": [
        "data_clas.show_batch()"
      ],
      "execution_count": 43,
      "outputs": [
        {
          "output_type": "display_data",
          "data": {
            "text/html": [
              "<table border=\"1\" class=\"dataframe\">\n",
              "  <thead>\n",
              "    <tr style=\"text-align: right;\">\n",
              "      <th>text</th>\n",
              "      <th>target</th>\n",
              "    </tr>\n",
              "  </thead>\n",
              "  <tbody>\n",
              "    <tr>\n",
              "      <td>xxbos xxmaj match 1 : xxmaj tag xxmaj team xxmaj table xxmaj match xxmaj bubba xxmaj ray and xxmaj spike xxmaj dudley vs xxmaj eddie xxmaj guerrero and xxmaj chris xxmaj benoit xxmaj bubba xxmaj ray and xxmaj spike xxmaj dudley started things off with a xxmaj tag xxmaj team xxmaj table xxmaj match against xxmaj eddie xxmaj guerrero and xxmaj chris xxmaj benoit . xxmaj according to the rules</td>\n",
              "      <td>pos</td>\n",
              "    </tr>\n",
              "    <tr>\n",
              "      <td>xxbos xxmaj on xxmaj sunday xxmaj july 27 , 1997 , the first episode of a new science fiction series called \" xxmaj stargate xxup sg-1 \" was broadcast on xxmaj showtime . a spin - off of and sequel to the 1994 film \" xxmaj stargate \" starring xxmaj kurt xxmaj russell and xxmaj james xxmaj spader , the series begins approximately one year after the events portrayed in</td>\n",
              "      <td>pos</td>\n",
              "    </tr>\n",
              "    <tr>\n",
              "      <td>xxbos xxmaj who knew ? xxmaj dowdy xxmaj queen xxmaj victoria , the plump xxmaj monarch who was a virtual recluse for 40 years after the death of her husband , xxmaj prince xxmaj albert , actually led a life fraught with drama and intrigue in her younger days . ' xxmaj the xxmaj young xxmaj victoria ' not only chronicles the young xxmaj queen 's romance with her husband</td>\n",
              "      <td>pos</td>\n",
              "    </tr>\n",
              "    <tr>\n",
              "      <td>xxbos xxmaj perspective is a good thing . xxmaj since the release of \" xxmaj star xxmaj wars xxmaj episode i : xxmaj the xxmaj phantom xxmaj menace \" , claims and counter - claims of just how xxmaj episode 's xxup ii and xxup iii will xxunk has taken the spotlight off the ' original ' xxmaj star xxmaj wars films , making them part of a cohesive whole</td>\n",
              "      <td>pos</td>\n",
              "    </tr>\n",
              "    <tr>\n",
              "      <td>xxbos xxmaj hear are some of the interesting things our combat hero faith healer xxmaj pat , his son xxmaj gordon ( xxup t.v. ministry seems like a family business . ) and xxmaj terry xxmaj xxunk ( xxmaj won xxmaj miss xxmaj america in 1973 by wearing a swimsuit and showing her legs . xxmaj oh my goodness gracious ! ) say when our poor viewers are sick and</td>\n",
              "      <td>neg</td>\n",
              "    </tr>\n",
              "  </tbody>\n",
              "</table>"
            ],
            "text/plain": [
              "<IPython.core.display.HTML object>"
            ]
          },
          "metadata": {
            "tags": []
          }
        }
      ]
    },
    {
      "cell_type": "markdown",
      "metadata": {
        "id": "Ze_CZIFmqF4b",
        "colab_type": "text"
      },
      "source": [
        "We can then create a model to classify those reviews and load the encoder we saved before."
      ]
    },
    {
      "cell_type": "code",
      "metadata": {
        "id": "tkVoh0XbqF4b",
        "colab_type": "code",
        "colab": {
          "base_uri": "https://localhost:8080/",
          "height": 1000
        },
        "outputId": "e85ce379-4bfe-4120-ba13-cc507812630b"
      },
      "source": [
        "learn = text_classifier_learner(data_clas, AWD_LSTM, drop_mult=0.5)\n",
        "learn.load_encoder('fine_tuned_enc')"
      ],
      "execution_count": 44,
      "outputs": [
        {
          "output_type": "execute_result",
          "data": {
            "text/plain": [
              "RNNLearner(data=TextClasDataBunch;\n",
              "\n",
              "Train: LabelList (25000 items)\n",
              "x: TextList\n",
              "xxbos xxmaj frankly , this movie has gone over the heads of most of its detractors . \n",
              " \n",
              "  xxmaj the opposite of perdition ( being lost ) is salvation ( being saved ) and this movie is one of a very few to deal with those two concepts . xxmaj the movie also explores the love and disappointments that attend the father - son relationship . xxmaj it should be noted at the outset that none of these are currently fashionable themes . \n",
              " \n",
              "  xxmaj the premise is that the fathers in the move , hit - man xxmaj michael xxmaj sullivan ( xxmaj tom xxmaj hanks ) and his crime boss xxmaj john xxmaj rooney ( xxmaj paul xxmaj newman ) , love their sons and will do anything to protect them . xxmaj but xxmaj rooney 's son xxmaj connor is even more evil than the rest . xxmaj he kills one of xxmaj rooney 's loyal soldiers to cover up his own stealing from his father . xxmaj when xxmaj connor learns that xxmaj sullivan 's son xxmaj michael witnessed it , he mistakenly kills xxmaj sullivan 's other son ( and xxmaj sullivan 's wife ) in an attempt to silence witnesses . \n",
              " \n",
              "  xxmaj sullivan decides he wants revenge at any price , even at the terribly high price of perdition . xxmaj rooney , who in one scene curses the day xxmaj connor was born , refuses to give up his son xxmaj connor to xxmaj sullivan , and hires a contract killer named xxmaj maguire ( xxmaj jude xxmaj law ) to kill xxmaj sullivan and his son . xxmaj so xxmaj rooney joins his son xxmaj connor on the xxmaj road to xxmaj perdition . \n",
              " \n",
              "  xxmaj for the rest of the movie , accompanied by his surviving son young xxmaj michael , xxmaj sullivan pursues xxmaj connor xxmaj rooney down the xxmaj road to xxmaj perdition , and xxmaj maguire pursues xxmaj sullivan . xxmaj when xxmaj sullivan confronts xxmaj rooney in a xxmaj church basement , and demands that he give up xxmaj connor because xxmaj connor murdered his family , xxmaj rooney says - \" xxmaj michael , there are only murderers in this room , .. , and there 's only one guarantee , none of us will see xxmaj heaven . \" xxmaj as the movie ends , somewhat predictably , one character is saved and one character repents . \n",
              " \n",
              "  i 'm not a big xxmaj tom xxmaj hanks fan , but he does step out of character to play hit - man xxmaj sullivan convincingly , giving a subtle and laconic performance . xxmaj newman does well as the old xxmaj irish gangster xxmaj rooney , showing a hard edge in his face and manner , his eyes haunted by xxmaj connor 's misdeeds . xxmaj jude xxmaj law plays xxmaj maguire in a suitably creepy way . xxmaj tyler xxmaj hoechlin plays xxmaj young xxmaj michael naturally and without affectation . \n",
              " \n",
              "  xxmaj the cinematography constantly played light off from darkness , echoing the themes of salvation and perdition . xxmaj the camera drew from a palette of greens and greys . xxmaj the greys belonged to the fathers and the urban landscapes of xxmaj depression era xxmaj illinois . xxmaj the greens belonged to the younger sons and that xxmaj state 's rural xxunk . xxmaj thomas xxmaj newman 's lush , sonorous and haunting music had faint xxmaj irish overtones and was played out in xxmaj copland - like arrangements . xxmaj the sets were authentic mid - xxmaj western urban - factories , churches . xxmaj the homes shone with gleaming woodwork . \n",
              " \n",
              "  xxmaj the excellence of the movie lies in its generation of a unique feeling out of its profound themes , distinctive acting , and enveloping music and cinematography . xxmaj the only negative was a slight anti - gun message slipped into the screenplay y , the movie 's only nod to political correctness . \n",
              " \n",
              "  i give this movie xxunk out of 10 ; in time it will be acknowledged as a great film .,xxbos xxmaj this noir may not be the best remembered film from the era , but it features a great mystery plot , the common noir atmosphere and some good performances from its lesser known cast members . xxmaj robert xxmaj siodmak , the talented director behind the mystery / horror classic ' xxmaj the xxmaj spiral xxmaj staircase ' directed this film two years earlier than the aforementioned film , and shows a real flair for creating a dark and brooding atmosphere as well as creating a plot that both intrigues and fascinates the viewer . xxmaj phantom xxmaj lady focuses on xxmaj scott xxmaj henderson ; a man married to a woman he does n't like . xxmaj he picks up a lady in a big hat in a bar one night , and the two agree to a ' no strings attached ' night of fun . xxmaj however , he then returns home to find his apartment infested by police officers and soon finds out that the reason they are there is because his wife has been strangled with one of his neck ties ! xxmaj he 's dismayed to find that no one he saw while with the mysterious woman can remember her , and naturally the jury sends him down for the murder of his wife . xxmaj however , luckily for him his beautiful female employee gets on the case ... \n",
              " \n",
              "  xxmaj the plot moves along nicely throughout , and unlike many of the better known noirs , this one features a few murders which make the proceedings more interesting . xxmaj in fact , if it was n't for the fact that it was made in the forties and shot in black and white , i would swear xxmaj phantom xxmaj lady was an xxmaj italian xxmaj giallo ! xxmaj the central characters are all interesting enough , with xxmaj alan xxmaj curtis providing a good portrayal of the unfortunate victim , and xxmaj ella xxmaj raines being effective as the female impromptu detective . xxmaj the real standout of the film , however , is xxmaj franchot xxmaj tone , who provides a memorable performance as the insane villain of the piece . xxmaj the film also features a role for supporting actor extraordinaire xxmaj elisha xxmaj cook xxmaj jr , who features playing the drums in the film 's most memorable segment . xxmaj if i was to criticise this film , i would say that the identity of the murderer is revealed a little too early - although xxmaj phantom xxmaj lady does deserve some credit on that front for the original way it goes about it . xxmaj the conclusion is satisfying and everything makes sense ( which is amazing considering the unlikely plot line ) and overall , xxmaj phantom xxmaj lady is surely one of the greatest and most under - seen noirs ever made !,xxbos xxmaj ah , true memories . i lived in xxmaj holland at the time and looked eagerly forward to it every xxmaj sunday evening and later xxmaj tuesdays . i saw it during my 14 - xxunk . xxmaj very good for my ( at the time xxunk , as xxmaj dutch xxup tv provides subtitles for other languages , except for kiddies shows nowadays . xxmaj so you would hear the original voices and language . - xxmaj the best series were the first three ones and then after the third series , the great character , xxmaj nazi xxmaj von xxmaj xxunk , who was such a formidable enemy , disappeared from the series ( i do n't think they ever really caught him , he always escaped , leaving room to have him appear again in a next story ) because evidently the series also was distributed to xxmaj germany , and a xxmaj nazi enemy would n't go over very well ! xxmaj too bad , because xxmaj geoffrey xxmaj xxunk did such a wonderful convincing job of portraying the intelligent xxmaj nazi aristocrat , who had this ongoing obsession to take revenge on xxmaj england . xxmaj it was a true delight to see this kind of high quality performance in a youth series , but xxmaj ronald xxmaj leigh - xxmaj hunt was a good counterpart and the youngsters were so normal . xxmaj they were very believable to me at the time and as a kid i could just imagine to be part of these youngsters , who at the time were about four years older than me . xxmaj it was a very exciting series to me , standing out in my memory of those times as a special show with \" the xxmaj prisoner \" as well . i hope they will publish a good quality xxup dvd of the series , that would be wonderful . xxmaj even the bad copies around are still enjoyable to watch . xxmaj the later series were not as good , watered down and just not as much fun as the first three . xxmaj hopefully they also find the other series with xxmaj von xxmaj xxunk to be put on xxup dvd . xxmaj greetings from xxmaj canada .,xxbos xxmaj one of several musicals about sailors on leave , it is the usual sailor meets girl , complications ensue , sorted out happily kind of plot . xxmaj it proceeds along smoothly enough but it does drag in places too . xxmaj the dialogue is not as zippy as ' xxmaj top xxmaj hat ' for example and xxmaj randolph xxmaj scott seems out of place . \n",
              " \n",
              "  xxmaj there are compensations . xxmaj it has some of xxmaj irving xxmaj berlin 's xxunk songs including ' xxmaj let xxmaj yourself xxmaj go ' , ' i 'm xxmaj putting all xxmaj my xxmaj eggs in xxmaj one xxmaj basket ' and ' xxmaj let 's xxmaj face the xxmaj music and xxmaj dance ' . xxmaj it has xxmaj fred and xxmaj ginger who when they are dancing take any film into heavenly heights and they do n't disappoint here . xxmaj they do a snappy tap dance , a knockabout comic dance and a swirling graceful dance , all in the same film ! xxmaj great versatility and artistry . \n",
              " \n",
              "  xxmaj it also has xxmaj harriet xxmaj hilliard who is rather good in her role . xxmaj she had a varied career , becoming the more famous xxmaj harriet xxmaj nelson with xxmaj ozzie . xxmaj here she is touching without being sentimental . xxmaj her two songs are simply and effectively delivered . xxmaj she makes a good contrast with xxmaj ginger but you can believe they are sisters in the film . \n",
              " \n",
              "  xxmaj more tightening up have made the film even better . xxmaj pretty good though .,xxbos xxmaj alex xxmaj winter and xxmaj keanu xxmaj reeves return as the two dopes from xxmaj san xxmaj xxunk who get sent on another trip of a lifetime as someone from the future feels exactly the opposite the way it was presented in the first movie . \n",
              " \n",
              "  xxmaj the only difference is that their trip is \" somewhere \" between xxmaj heaven and xxmaj hell and ends up being both . xxmaj when they meet the xxmaj grim xxmaj reaper , they get the chance of an after - lifetime to play him for a chance to return and stop two evil robots from ruining what future they were supposed to have . xxmaj besides playing roles they have ... er ... perfected , they also play ( and revive a couple of extra sales in the process ) some classic games ( i even have my original copy of xxmaj battleship in the closet ) . \n",
              " \n",
              "  xxmaj the reason i liked this movie better than the original is because it deals with \" what it might be like \" instead of \" what was . \" xxmaj without spoiling the movie , i ca n't give you anymore information about this ( i guess you 'll just have to watch them both and decide for yourself ! 8 out of 10 stars .\n",
              "y: CategoryList\n",
              "pos,pos,pos,pos,pos\n",
              "Path: /root/.fastai/data/imdb;\n",
              "\n",
              "Valid: LabelList (25000 items)\n",
              "x: TextList\n",
              "xxbos ( xxup warning : xxup spoilers ! ) \n",
              " \n",
              "  xxmaj five young people ignore the warnings of forest ranger xxmaj george xxmaj kennedy and hike up to the misty xxmaj oregon mountains where they are stalked and butchered by a pair of huge , deformed , in - bred hillbilly twins . xxmaj when only two are left , xxmaj warren and his girl xxmaj connie , they resort back to their animal instincts to stay alive . xxmaj the film ends with xxmaj connie shoving half of her arm down one of the killers ' throats , choking him to death . a very powerful , if somewhat overrated , backwoods slasher flick that s effective use of lighting , sound and photography make it a cut above the usual xxup friday xxup the xxup 13th cash - in . xxmaj lead by an attractive , likeable cast , especially xxmaj deborah xxmaj benson ( where is she now ? ) and xxmaj gregg xxmaj henry , this nifty companion piece to director xxmaj jeff xxmaj lieberman 's xxup squirm ( 1976 ) and xxup blue xxup sunshine ( 1977 ) should n't be missed .,xxbos i am sorry to see that xxup surface has not been picked up for the xxup nbc 2006 - 2007 season . i guess market demand for inane game and reality shows on broadcast television , a reflection on our sense of culture , has conquered a good story . i hope and pray that some network picks it up so it will continue on as does xxup stargate and it 's spin - offs . \n",
              " \n",
              "  i also hope the producers find a venue where they can produce the level of xxmaj post xxmaj production they wished for in a xxup tv xxmaj guide interview . xxmaj right now the reruns on xxmaj sci - xxmaj fi , marathons , will have to do . i for one would love to see where the story goes after the tsunami that ended xxmaj episode 15 . i would like to find out the mastermind of the efficient effort to obfuscate the real identity of the creatures . \n",
              " \n",
              "  xxup xxunk xxmaj xxunk,xxbos xxmaj this film launched my theory about films based on books : xxmaj instead of following the cliche \" xxmaj you 've read the book ; now see the film , \" if you are looking for a good book to read , try one upon which a movie you like was based , because it 'll be 10 times better . \n",
              " \n",
              "  i saw this film on its initial release at the xxmaj national xxmaj theater in downtown xxmaj eugene and liked it so much that i stayed to see it again . xxmaj it 's a perfect merger of the inspiring talents of one of my favorite actors , xxmaj jon xxmaj voight , with what became my favorite book , \" xxmaj the xxmaj water xxmaj is xxmaj wide , \" by xxmaj pat xxmaj conroy . \n",
              " \n",
              "  i can think of no better movie about the nobility of teaching and the ironic challenges of life . xxmaj two tiny caveats : \n",
              " \n",
              "  ( 1 ) xxmaj the video suffers severely from pan - and - scan and deserves a letterbox version . ( 2 ) xxmaj the title should be restored to the name of the book , a reference to one of the most touching , enigmatic songs ever written,xxbos xxmaj as a kid i loved the song \" xxmaj never smile at a crocodile \" , and if i found myself in this state of affairs , which is actually inspired by true events . xxmaj smiling would be the last thing on my mind . xxmaj from the opening set - up , i 've never been so entrenched , caught up and finally exhausted like i was when watching this limited budget xxmaj independent xxmaj australian horror film , about three people in xxmaj northern xxmaj territory trapped in a xxunk swamp with a very conniving crocodile waiting in the water below them . xxmaj what really brought the film alive , was how realistic it managed to be in transporting the fear and uncertainty of the characters ' situation to the audience . xxmaj semi - documentary camera - work with a xxunk eerie backdrop and authentic performances effectively take you out of your comfort zone . xxmaj what we get is a patient survival tale than just a bloody , all - out creature feature onslaught . xxmaj think of \" xxmaj open xxmaj water ( 2003 ) \" , where its budget and time restraint made sure it would stay low - key , but this minimal barrier enhanced the experience . \n",
              " \n",
              "  xxmaj the slow - grinding story might be black and white , but it never seemed to become disposable , or succumb to formulaic patterns . xxmaj well not largely , and the connection between the characters were emotionally engaging even with a bare , straight - forward script . xxmaj although you can say \" less is more \" , with the actions and expressions illuminating the lingering thoughts plaguing their minds . xxmaj the ordeal is utterly terrifying , because the threat is very alive and never seems to loosen up . xxmaj this is what drives the film 's chaotic adrenaline , and in which it lasts ( even when its kept buried ) through to the very end . \n",
              " \n",
              "  xxmaj writers / xxmaj directors xxmaj andrew xxmaj xxunk and xxmaj david xxmaj xxunk 's economical guidance alienates and smartly strings along the viewer with its taut pacing and harrowing psychological traits . xxmaj in certain patches the notch goes up , with pressure induced suspense and startling images . xxmaj the way the night sequence is executed is immensely chilling and pulsating . xxmaj the menacing crocodile manipulative toys with its fresh - meat in a distressingly suspenseful approach . xxmaj sure some moments felt unlikely , but never does it get in the way or distract . xxmaj sound xxup fx is the key , and at times the lack of any just eats away at you . xxmaj xxunk xxmaj may 's musical score is unassuming and does n't really enter the mixture much , but when it does it builds an organic sounding quality . xxmaj the cinematography of xxmaj john xxmaj biggins is beautifully devised , and rapidly aggressive when the mood changes . xxmaj it was always on the move and claustrophobic , but none of this jerky movements . xxmaj the editing was sharply handled , and the effects were professionally catered by superbly combing live crocodile footage . \n",
              " \n",
              "  xxmaj something like this production would also have to rely on its cast to sell to the story in a believable manner and they do it . xxmaj diana xxmaj glenn , xxmaj andy xxmaj rodoreda and especially xxmaj maeve xxmaj dermody are persuasively good . a lot of the responsibility falls on xxmaj dermody , and she strongly delivers with an inspired turn . xxmaj now this item might cop some comparisons with another killer crocodile film \" xxmaj rogue ( 2007 ) \" , but the two could n't be any different in what they want to be and how they end up . xxmaj if i had to pick though , i 'm leaning more towards this outing for its sheer involvement to snap at you . \n",
              " \n",
              "  a remarkable effort on all fronts , with everyone involved showing potential to really look out for .,xxbos i was surprised as i watched this movie , how much it had ' xxunk ' me . xxmaj no the actors did n't act like typical ' xxmaj hollywood ' actors , but that 's not always bad either , as this film proves . xxmaj quite different from the xxmaj disney standard , it is a refreshing turn none - the - less ! xxmaj they also give you a taste of what it was probably like without being ' educational ' . a movie everyone should both see and enjoy . xxmaj many people love arguing over ' accuracies ' in any movie of this type , but just getting the basic idea has plenty to offer . xxmaj mild gripe ; xxmaj east and xxmaj west xxmaj germany , viewed on any map , would have xxmaj west xxmaj germany on the left side , xxmaj east to the right . xxmaj the movie at times , sets you back slightly , because about half of the scenes have xxmaj west xxmaj germany on the right side of the screen , and other times on the left side . xxmaj even during the same events , they shift back and forth . xxmaj perhaps , just a little more consistency would have avoided this mild distraction . xxmaj go xxmaj see xxmaj it !\n",
              "y: CategoryList\n",
              "pos,pos,pos,pos,pos\n",
              "Path: /root/.fastai/data/imdb;\n",
              "\n",
              "Test: None, model=SequentialRNN(\n",
              "  (0): MultiBatchEncoder(\n",
              "    (module): AWD_LSTM(\n",
              "      (encoder): Embedding(60000, 400, padding_idx=1)\n",
              "      (encoder_dp): EmbeddingDropout(\n",
              "        (emb): Embedding(60000, 400, padding_idx=1)\n",
              "      )\n",
              "      (rnns): ModuleList(\n",
              "        (0): WeightDropout(\n",
              "          (module): LSTM(400, 1152, batch_first=True)\n",
              "        )\n",
              "        (1): WeightDropout(\n",
              "          (module): LSTM(1152, 1152, batch_first=True)\n",
              "        )\n",
              "        (2): WeightDropout(\n",
              "          (module): LSTM(1152, 400, batch_first=True)\n",
              "        )\n",
              "      )\n",
              "      (input_dp): RNNDropout()\n",
              "      (hidden_dps): ModuleList(\n",
              "        (0): RNNDropout()\n",
              "        (1): RNNDropout()\n",
              "        (2): RNNDropout()\n",
              "      )\n",
              "    )\n",
              "  )\n",
              "  (1): PoolingLinearClassifier(\n",
              "    (layers): Sequential(\n",
              "      (0): BatchNorm1d(1200, eps=1e-05, momentum=0.1, affine=True, track_running_stats=True)\n",
              "      (1): Dropout(p=0.2, inplace=False)\n",
              "      (2): Linear(in_features=1200, out_features=50, bias=True)\n",
              "      (3): ReLU(inplace=True)\n",
              "      (4): BatchNorm1d(50, eps=1e-05, momentum=0.1, affine=True, track_running_stats=True)\n",
              "      (5): Dropout(p=0.1, inplace=False)\n",
              "      (6): Linear(in_features=50, out_features=2, bias=True)\n",
              "    )\n",
              "  )\n",
              "), opt_func=functools.partial(<class 'torch.optim.adam.Adam'>, betas=(0.9, 0.99)), loss_func=FlattenedLoss of CrossEntropyLoss(), metrics=[<function accuracy at 0x7ff8effc9bf8>], true_wd=True, bn_wd=True, wd=0.01, train_bn=True, path=PosixPath('/root/.fastai/data/imdb'), model_dir='models', callback_fns=[functools.partial(<class 'fastai.basic_train.Recorder'>, add_time=True, silent=False)], callbacks=[RNNTrainer\n",
              "learn: RNNLearner(data=TextClasDataBunch;\n",
              "\n",
              "Train: LabelList (25000 items)\n",
              "x: TextList\n",
              "xxbos xxmaj frankly , this movie has gone over the heads of most of its detractors . \n",
              " \n",
              "  xxmaj the opposite of perdition ( being lost ) is salvation ( being saved ) and this movie is one of a very few to deal with those two concepts . xxmaj the movie also explores the love and disappointments that attend the father - son relationship . xxmaj it should be noted at the outset that none of these are currently fashionable themes . \n",
              " \n",
              "  xxmaj the premise is that the fathers in the move , hit - man xxmaj michael xxmaj sullivan ( xxmaj tom xxmaj hanks ) and his crime boss xxmaj john xxmaj rooney ( xxmaj paul xxmaj newman ) , love their sons and will do anything to protect them . xxmaj but xxmaj rooney 's son xxmaj connor is even more evil than the rest . xxmaj he kills one of xxmaj rooney 's loyal soldiers to cover up his own stealing from his father . xxmaj when xxmaj connor learns that xxmaj sullivan 's son xxmaj michael witnessed it , he mistakenly kills xxmaj sullivan 's other son ( and xxmaj sullivan 's wife ) in an attempt to silence witnesses . \n",
              " \n",
              "  xxmaj sullivan decides he wants revenge at any price , even at the terribly high price of perdition . xxmaj rooney , who in one scene curses the day xxmaj connor was born , refuses to give up his son xxmaj connor to xxmaj sullivan , and hires a contract killer named xxmaj maguire ( xxmaj jude xxmaj law ) to kill xxmaj sullivan and his son . xxmaj so xxmaj rooney joins his son xxmaj connor on the xxmaj road to xxmaj perdition . \n",
              " \n",
              "  xxmaj for the rest of the movie , accompanied by his surviving son young xxmaj michael , xxmaj sullivan pursues xxmaj connor xxmaj rooney down the xxmaj road to xxmaj perdition , and xxmaj maguire pursues xxmaj sullivan . xxmaj when xxmaj sullivan confronts xxmaj rooney in a xxmaj church basement , and demands that he give up xxmaj connor because xxmaj connor murdered his family , xxmaj rooney says - \" xxmaj michael , there are only murderers in this room , .. , and there 's only one guarantee , none of us will see xxmaj heaven . \" xxmaj as the movie ends , somewhat predictably , one character is saved and one character repents . \n",
              " \n",
              "  i 'm not a big xxmaj tom xxmaj hanks fan , but he does step out of character to play hit - man xxmaj sullivan convincingly , giving a subtle and laconic performance . xxmaj newman does well as the old xxmaj irish gangster xxmaj rooney , showing a hard edge in his face and manner , his eyes haunted by xxmaj connor 's misdeeds . xxmaj jude xxmaj law plays xxmaj maguire in a suitably creepy way . xxmaj tyler xxmaj hoechlin plays xxmaj young xxmaj michael naturally and without affectation . \n",
              " \n",
              "  xxmaj the cinematography constantly played light off from darkness , echoing the themes of salvation and perdition . xxmaj the camera drew from a palette of greens and greys . xxmaj the greys belonged to the fathers and the urban landscapes of xxmaj depression era xxmaj illinois . xxmaj the greens belonged to the younger sons and that xxmaj state 's rural xxunk . xxmaj thomas xxmaj newman 's lush , sonorous and haunting music had faint xxmaj irish overtones and was played out in xxmaj copland - like arrangements . xxmaj the sets were authentic mid - xxmaj western urban - factories , churches . xxmaj the homes shone with gleaming woodwork . \n",
              " \n",
              "  xxmaj the excellence of the movie lies in its generation of a unique feeling out of its profound themes , distinctive acting , and enveloping music and cinematography . xxmaj the only negative was a slight anti - gun message slipped into the screenplay y , the movie 's only nod to political correctness . \n",
              " \n",
              "  i give this movie xxunk out of 10 ; in time it will be acknowledged as a great film .,xxbos xxmaj this noir may not be the best remembered film from the era , but it features a great mystery plot , the common noir atmosphere and some good performances from its lesser known cast members . xxmaj robert xxmaj siodmak , the talented director behind the mystery / horror classic ' xxmaj the xxmaj spiral xxmaj staircase ' directed this film two years earlier than the aforementioned film , and shows a real flair for creating a dark and brooding atmosphere as well as creating a plot that both intrigues and fascinates the viewer . xxmaj phantom xxmaj lady focuses on xxmaj scott xxmaj henderson ; a man married to a woman he does n't like . xxmaj he picks up a lady in a big hat in a bar one night , and the two agree to a ' no strings attached ' night of fun . xxmaj however , he then returns home to find his apartment infested by police officers and soon finds out that the reason they are there is because his wife has been strangled with one of his neck ties ! xxmaj he 's dismayed to find that no one he saw while with the mysterious woman can remember her , and naturally the jury sends him down for the murder of his wife . xxmaj however , luckily for him his beautiful female employee gets on the case ... \n",
              " \n",
              "  xxmaj the plot moves along nicely throughout , and unlike many of the better known noirs , this one features a few murders which make the proceedings more interesting . xxmaj in fact , if it was n't for the fact that it was made in the forties and shot in black and white , i would swear xxmaj phantom xxmaj lady was an xxmaj italian xxmaj giallo ! xxmaj the central characters are all interesting enough , with xxmaj alan xxmaj curtis providing a good portrayal of the unfortunate victim , and xxmaj ella xxmaj raines being effective as the female impromptu detective . xxmaj the real standout of the film , however , is xxmaj franchot xxmaj tone , who provides a memorable performance as the insane villain of the piece . xxmaj the film also features a role for supporting actor extraordinaire xxmaj elisha xxmaj cook xxmaj jr , who features playing the drums in the film 's most memorable segment . xxmaj if i was to criticise this film , i would say that the identity of the murderer is revealed a little too early - although xxmaj phantom xxmaj lady does deserve some credit on that front for the original way it goes about it . xxmaj the conclusion is satisfying and everything makes sense ( which is amazing considering the unlikely plot line ) and overall , xxmaj phantom xxmaj lady is surely one of the greatest and most under - seen noirs ever made !,xxbos xxmaj ah , true memories . i lived in xxmaj holland at the time and looked eagerly forward to it every xxmaj sunday evening and later xxmaj tuesdays . i saw it during my 14 - xxunk . xxmaj very good for my ( at the time xxunk , as xxmaj dutch xxup tv provides subtitles for other languages , except for kiddies shows nowadays . xxmaj so you would hear the original voices and language . - xxmaj the best series were the first three ones and then after the third series , the great character , xxmaj nazi xxmaj von xxmaj xxunk , who was such a formidable enemy , disappeared from the series ( i do n't think they ever really caught him , he always escaped , leaving room to have him appear again in a next story ) because evidently the series also was distributed to xxmaj germany , and a xxmaj nazi enemy would n't go over very well ! xxmaj too bad , because xxmaj geoffrey xxmaj xxunk did such a wonderful convincing job of portraying the intelligent xxmaj nazi aristocrat , who had this ongoing obsession to take revenge on xxmaj england . xxmaj it was a true delight to see this kind of high quality performance in a youth series , but xxmaj ronald xxmaj leigh - xxmaj hunt was a good counterpart and the youngsters were so normal . xxmaj they were very believable to me at the time and as a kid i could just imagine to be part of these youngsters , who at the time were about four years older than me . xxmaj it was a very exciting series to me , standing out in my memory of those times as a special show with \" the xxmaj prisoner \" as well . i hope they will publish a good quality xxup dvd of the series , that would be wonderful . xxmaj even the bad copies around are still enjoyable to watch . xxmaj the later series were not as good , watered down and just not as much fun as the first three . xxmaj hopefully they also find the other series with xxmaj von xxmaj xxunk to be put on xxup dvd . xxmaj greetings from xxmaj canada .,xxbos xxmaj one of several musicals about sailors on leave , it is the usual sailor meets girl , complications ensue , sorted out happily kind of plot . xxmaj it proceeds along smoothly enough but it does drag in places too . xxmaj the dialogue is not as zippy as ' xxmaj top xxmaj hat ' for example and xxmaj randolph xxmaj scott seems out of place . \n",
              " \n",
              "  xxmaj there are compensations . xxmaj it has some of xxmaj irving xxmaj berlin 's xxunk songs including ' xxmaj let xxmaj yourself xxmaj go ' , ' i 'm xxmaj putting all xxmaj my xxmaj eggs in xxmaj one xxmaj basket ' and ' xxmaj let 's xxmaj face the xxmaj music and xxmaj dance ' . xxmaj it has xxmaj fred and xxmaj ginger who when they are dancing take any film into heavenly heights and they do n't disappoint here . xxmaj they do a snappy tap dance , a knockabout comic dance and a swirling graceful dance , all in the same film ! xxmaj great versatility and artistry . \n",
              " \n",
              "  xxmaj it also has xxmaj harriet xxmaj hilliard who is rather good in her role . xxmaj she had a varied career , becoming the more famous xxmaj harriet xxmaj nelson with xxmaj ozzie . xxmaj here she is touching without being sentimental . xxmaj her two songs are simply and effectively delivered . xxmaj she makes a good contrast with xxmaj ginger but you can believe they are sisters in the film . \n",
              " \n",
              "  xxmaj more tightening up have made the film even better . xxmaj pretty good though .,xxbos xxmaj alex xxmaj winter and xxmaj keanu xxmaj reeves return as the two dopes from xxmaj san xxmaj xxunk who get sent on another trip of a lifetime as someone from the future feels exactly the opposite the way it was presented in the first movie . \n",
              " \n",
              "  xxmaj the only difference is that their trip is \" somewhere \" between xxmaj heaven and xxmaj hell and ends up being both . xxmaj when they meet the xxmaj grim xxmaj reaper , they get the chance of an after - lifetime to play him for a chance to return and stop two evil robots from ruining what future they were supposed to have . xxmaj besides playing roles they have ... er ... perfected , they also play ( and revive a couple of extra sales in the process ) some classic games ( i even have my original copy of xxmaj battleship in the closet ) . \n",
              " \n",
              "  xxmaj the reason i liked this movie better than the original is because it deals with \" what it might be like \" instead of \" what was . \" xxmaj without spoiling the movie , i ca n't give you anymore information about this ( i guess you 'll just have to watch them both and decide for yourself ! 8 out of 10 stars .\n",
              "y: CategoryList\n",
              "pos,pos,pos,pos,pos\n",
              "Path: /root/.fastai/data/imdb;\n",
              "\n",
              "Valid: LabelList (25000 items)\n",
              "x: TextList\n",
              "xxbos ( xxup warning : xxup spoilers ! ) \n",
              " \n",
              "  xxmaj five young people ignore the warnings of forest ranger xxmaj george xxmaj kennedy and hike up to the misty xxmaj oregon mountains where they are stalked and butchered by a pair of huge , deformed , in - bred hillbilly twins . xxmaj when only two are left , xxmaj warren and his girl xxmaj connie , they resort back to their animal instincts to stay alive . xxmaj the film ends with xxmaj connie shoving half of her arm down one of the killers ' throats , choking him to death . a very powerful , if somewhat overrated , backwoods slasher flick that s effective use of lighting , sound and photography make it a cut above the usual xxup friday xxup the xxup 13th cash - in . xxmaj lead by an attractive , likeable cast , especially xxmaj deborah xxmaj benson ( where is she now ? ) and xxmaj gregg xxmaj henry , this nifty companion piece to director xxmaj jeff xxmaj lieberman 's xxup squirm ( 1976 ) and xxup blue xxup sunshine ( 1977 ) should n't be missed .,xxbos i am sorry to see that xxup surface has not been picked up for the xxup nbc 2006 - 2007 season . i guess market demand for inane game and reality shows on broadcast television , a reflection on our sense of culture , has conquered a good story . i hope and pray that some network picks it up so it will continue on as does xxup stargate and it 's spin - offs . \n",
              " \n",
              "  i also hope the producers find a venue where they can produce the level of xxmaj post xxmaj production they wished for in a xxup tv xxmaj guide interview . xxmaj right now the reruns on xxmaj sci - xxmaj fi , marathons , will have to do . i for one would love to see where the story goes after the tsunami that ended xxmaj episode 15 . i would like to find out the mastermind of the efficient effort to obfuscate the real identity of the creatures . \n",
              " \n",
              "  xxup xxunk xxmaj xxunk,xxbos xxmaj this film launched my theory about films based on books : xxmaj instead of following the cliche \" xxmaj you 've read the book ; now see the film , \" if you are looking for a good book to read , try one upon which a movie you like was based , because it 'll be 10 times better . \n",
              " \n",
              "  i saw this film on its initial release at the xxmaj national xxmaj theater in downtown xxmaj eugene and liked it so much that i stayed to see it again . xxmaj it 's a perfect merger of the inspiring talents of one of my favorite actors , xxmaj jon xxmaj voight , with what became my favorite book , \" xxmaj the xxmaj water xxmaj is xxmaj wide , \" by xxmaj pat xxmaj conroy . \n",
              " \n",
              "  i can think of no better movie about the nobility of teaching and the ironic challenges of life . xxmaj two tiny caveats : \n",
              " \n",
              "  ( 1 ) xxmaj the video suffers severely from pan - and - scan and deserves a letterbox version . ( 2 ) xxmaj the title should be restored to the name of the book , a reference to one of the most touching , enigmatic songs ever written,xxbos xxmaj as a kid i loved the song \" xxmaj never smile at a crocodile \" , and if i found myself in this state of affairs , which is actually inspired by true events . xxmaj smiling would be the last thing on my mind . xxmaj from the opening set - up , i 've never been so entrenched , caught up and finally exhausted like i was when watching this limited budget xxmaj independent xxmaj australian horror film , about three people in xxmaj northern xxmaj territory trapped in a xxunk swamp with a very conniving crocodile waiting in the water below them . xxmaj what really brought the film alive , was how realistic it managed to be in transporting the fear and uncertainty of the characters ' situation to the audience . xxmaj semi - documentary camera - work with a xxunk eerie backdrop and authentic performances effectively take you out of your comfort zone . xxmaj what we get is a patient survival tale than just a bloody , all - out creature feature onslaught . xxmaj think of \" xxmaj open xxmaj water ( 2003 ) \" , where its budget and time restraint made sure it would stay low - key , but this minimal barrier enhanced the experience . \n",
              " \n",
              "  xxmaj the slow - grinding story might be black and white , but it never seemed to become disposable , or succumb to formulaic patterns . xxmaj well not largely , and the connection between the characters were emotionally engaging even with a bare , straight - forward script . xxmaj although you can say \" less is more \" , with the actions and expressions illuminating the lingering thoughts plaguing their minds . xxmaj the ordeal is utterly terrifying , because the threat is very alive and never seems to loosen up . xxmaj this is what drives the film 's chaotic adrenaline , and in which it lasts ( even when its kept buried ) through to the very end . \n",
              " \n",
              "  xxmaj writers / xxmaj directors xxmaj andrew xxmaj xxunk and xxmaj david xxmaj xxunk 's economical guidance alienates and smartly strings along the viewer with its taut pacing and harrowing psychological traits . xxmaj in certain patches the notch goes up , with pressure induced suspense and startling images . xxmaj the way the night sequence is executed is immensely chilling and pulsating . xxmaj the menacing crocodile manipulative toys with its fresh - meat in a distressingly suspenseful approach . xxmaj sure some moments felt unlikely , but never does it get in the way or distract . xxmaj sound xxup fx is the key , and at times the lack of any just eats away at you . xxmaj xxunk xxmaj may 's musical score is unassuming and does n't really enter the mixture much , but when it does it builds an organic sounding quality . xxmaj the cinematography of xxmaj john xxmaj biggins is beautifully devised , and rapidly aggressive when the mood changes . xxmaj it was always on the move and claustrophobic , but none of this jerky movements . xxmaj the editing was sharply handled , and the effects were professionally catered by superbly combing live crocodile footage . \n",
              " \n",
              "  xxmaj something like this production would also have to rely on its cast to sell to the story in a believable manner and they do it . xxmaj diana xxmaj glenn , xxmaj andy xxmaj rodoreda and especially xxmaj maeve xxmaj dermody are persuasively good . a lot of the responsibility falls on xxmaj dermody , and she strongly delivers with an inspired turn . xxmaj now this item might cop some comparisons with another killer crocodile film \" xxmaj rogue ( 2007 ) \" , but the two could n't be any different in what they want to be and how they end up . xxmaj if i had to pick though , i 'm leaning more towards this outing for its sheer involvement to snap at you . \n",
              " \n",
              "  a remarkable effort on all fronts , with everyone involved showing potential to really look out for .,xxbos i was surprised as i watched this movie , how much it had ' xxunk ' me . xxmaj no the actors did n't act like typical ' xxmaj hollywood ' actors , but that 's not always bad either , as this film proves . xxmaj quite different from the xxmaj disney standard , it is a refreshing turn none - the - less ! xxmaj they also give you a taste of what it was probably like without being ' educational ' . a movie everyone should both see and enjoy . xxmaj many people love arguing over ' accuracies ' in any movie of this type , but just getting the basic idea has plenty to offer . xxmaj mild gripe ; xxmaj east and xxmaj west xxmaj germany , viewed on any map , would have xxmaj west xxmaj germany on the left side , xxmaj east to the right . xxmaj the movie at times , sets you back slightly , because about half of the scenes have xxmaj west xxmaj germany on the right side of the screen , and other times on the left side . xxmaj even during the same events , they shift back and forth . xxmaj perhaps , just a little more consistency would have avoided this mild distraction . xxmaj go xxmaj see xxmaj it !\n",
              "y: CategoryList\n",
              "pos,pos,pos,pos,pos\n",
              "Path: /root/.fastai/data/imdb;\n",
              "\n",
              "Test: None, model=SequentialRNN(\n",
              "  (0): MultiBatchEncoder(\n",
              "    (module): AWD_LSTM(\n",
              "      (encoder): Embedding(60000, 400, padding_idx=1)\n",
              "      (encoder_dp): EmbeddingDropout(\n",
              "        (emb): Embedding(60000, 400, padding_idx=1)\n",
              "      )\n",
              "      (rnns): ModuleList(\n",
              "        (0): WeightDropout(\n",
              "          (module): LSTM(400, 1152, batch_first=True)\n",
              "        )\n",
              "        (1): WeightDropout(\n",
              "          (module): LSTM(1152, 1152, batch_first=True)\n",
              "        )\n",
              "        (2): WeightDropout(\n",
              "          (module): LSTM(1152, 400, batch_first=True)\n",
              "        )\n",
              "      )\n",
              "      (input_dp): RNNDropout()\n",
              "      (hidden_dps): ModuleList(\n",
              "        (0): RNNDropout()\n",
              "        (1): RNNDropout()\n",
              "        (2): RNNDropout()\n",
              "      )\n",
              "    )\n",
              "  )\n",
              "  (1): PoolingLinearClassifier(\n",
              "    (layers): Sequential(\n",
              "      (0): BatchNorm1d(1200, eps=1e-05, momentum=0.1, affine=True, track_running_stats=True)\n",
              "      (1): Dropout(p=0.2, inplace=False)\n",
              "      (2): Linear(in_features=1200, out_features=50, bias=True)\n",
              "      (3): ReLU(inplace=True)\n",
              "      (4): BatchNorm1d(50, eps=1e-05, momentum=0.1, affine=True, track_running_stats=True)\n",
              "      (5): Dropout(p=0.1, inplace=False)\n",
              "      (6): Linear(in_features=50, out_features=2, bias=True)\n",
              "    )\n",
              "  )\n",
              "), opt_func=functools.partial(<class 'torch.optim.adam.Adam'>, betas=(0.9, 0.99)), loss_func=FlattenedLoss of CrossEntropyLoss(), metrics=[<function accuracy at 0x7ff8effc9bf8>], true_wd=True, bn_wd=True, wd=0.01, train_bn=True, path=PosixPath('/root/.fastai/data/imdb'), model_dir='models', callback_fns=[functools.partial(<class 'fastai.basic_train.Recorder'>, add_time=True, silent=False)], callbacks=[...], layer_groups=[Sequential(\n",
              "  (0): Embedding(60000, 400, padding_idx=1)\n",
              "  (1): EmbeddingDropout(\n",
              "    (emb): Embedding(60000, 400, padding_idx=1)\n",
              "  )\n",
              "), Sequential(\n",
              "  (0): WeightDropout(\n",
              "    (module): LSTM(400, 1152, batch_first=True)\n",
              "  )\n",
              "  (1): RNNDropout()\n",
              "), Sequential(\n",
              "  (0): WeightDropout(\n",
              "    (module): LSTM(1152, 1152, batch_first=True)\n",
              "  )\n",
              "  (1): RNNDropout()\n",
              "), Sequential(\n",
              "  (0): WeightDropout(\n",
              "    (module): LSTM(1152, 400, batch_first=True)\n",
              "  )\n",
              "  (1): RNNDropout()\n",
              "), Sequential(\n",
              "  (0): PoolingLinearClassifier(\n",
              "    (layers): Sequential(\n",
              "      (0): BatchNorm1d(1200, eps=1e-05, momentum=0.1, affine=True, track_running_stats=True)\n",
              "      (1): Dropout(p=0.2, inplace=False)\n",
              "      (2): Linear(in_features=1200, out_features=50, bias=True)\n",
              "      (3): ReLU(inplace=True)\n",
              "      (4): BatchNorm1d(50, eps=1e-05, momentum=0.1, affine=True, track_running_stats=True)\n",
              "      (5): Dropout(p=0.1, inplace=False)\n",
              "      (6): Linear(in_features=50, out_features=2, bias=True)\n",
              "    )\n",
              "  )\n",
              ")], add_time=True, silent=False)\n",
              "alpha: 2.0\n",
              "beta: 1.0], layer_groups=[Sequential(\n",
              "  (0): Embedding(60000, 400, padding_idx=1)\n",
              "  (1): EmbeddingDropout(\n",
              "    (emb): Embedding(60000, 400, padding_idx=1)\n",
              "  )\n",
              "), Sequential(\n",
              "  (0): WeightDropout(\n",
              "    (module): LSTM(400, 1152, batch_first=True)\n",
              "  )\n",
              "  (1): RNNDropout()\n",
              "), Sequential(\n",
              "  (0): WeightDropout(\n",
              "    (module): LSTM(1152, 1152, batch_first=True)\n",
              "  )\n",
              "  (1): RNNDropout()\n",
              "), Sequential(\n",
              "  (0): WeightDropout(\n",
              "    (module): LSTM(1152, 400, batch_first=True)\n",
              "  )\n",
              "  (1): RNNDropout()\n",
              "), Sequential(\n",
              "  (0): PoolingLinearClassifier(\n",
              "    (layers): Sequential(\n",
              "      (0): BatchNorm1d(1200, eps=1e-05, momentum=0.1, affine=True, track_running_stats=True)\n",
              "      (1): Dropout(p=0.2, inplace=False)\n",
              "      (2): Linear(in_features=1200, out_features=50, bias=True)\n",
              "      (3): ReLU(inplace=True)\n",
              "      (4): BatchNorm1d(50, eps=1e-05, momentum=0.1, affine=True, track_running_stats=True)\n",
              "      (5): Dropout(p=0.1, inplace=False)\n",
              "      (6): Linear(in_features=50, out_features=2, bias=True)\n",
              "    )\n",
              "  )\n",
              ")], add_time=True, silent=False)"
            ]
          },
          "metadata": {
            "tags": []
          },
          "execution_count": 44
        }
      ]
    },
    {
      "cell_type": "code",
      "metadata": {
        "id": "F1tvjFG0qF4f",
        "colab_type": "code",
        "colab": {
          "base_uri": "https://localhost:8080/",
          "height": 110
        },
        "outputId": "59f64055-61ac-4d44-c89d-aa61eba774a3"
      },
      "source": [
        "learn.lr_find()"
      ],
      "execution_count": 45,
      "outputs": [
        {
          "output_type": "display_data",
          "data": {
            "text/html": [
              "\n",
              "    <div>\n",
              "        <style>\n",
              "            /* Turns off some styling */\n",
              "            progress {\n",
              "                /* gets rid of default border in Firefox and Opera. */\n",
              "                border: none;\n",
              "                /* Needs to be in here for Safari polyfill so background images work as expected. */\n",
              "                background-size: auto;\n",
              "            }\n",
              "            .progress-bar-interrupted, .progress-bar-interrupted::-webkit-progress-bar {\n",
              "                background: #F44336;\n",
              "            }\n",
              "        </style>\n",
              "      <progress value='0' class='' max='1', style='width:300px; height:20px; vertical-align: middle;'></progress>\n",
              "      0.00% [0/1 00:00<00:00]\n",
              "    </div>\n",
              "    \n",
              "<table border=\"1\" class=\"dataframe\">\n",
              "  <thead>\n",
              "    <tr style=\"text-align: left;\">\n",
              "      <th>epoch</th>\n",
              "      <th>train_loss</th>\n",
              "      <th>valid_loss</th>\n",
              "      <th>accuracy</th>\n",
              "      <th>time</th>\n",
              "    </tr>\n",
              "  </thead>\n",
              "  <tbody>\n",
              "  </tbody>\n",
              "</table><p>\n",
              "\n",
              "    <div>\n",
              "        <style>\n",
              "            /* Turns off some styling */\n",
              "            progress {\n",
              "                /* gets rid of default border in Firefox and Opera. */\n",
              "                border: none;\n",
              "                /* Needs to be in here for Safari polyfill so background images work as expected. */\n",
              "                background-size: auto;\n",
              "            }\n",
              "            .progress-bar-interrupted, .progress-bar-interrupted::-webkit-progress-bar {\n",
              "                background: #F44336;\n",
              "            }\n",
              "        </style>\n",
              "      <progress value='94' class='' max='520', style='width:300px; height:20px; vertical-align: middle;'></progress>\n",
              "      18.08% [94/520 00:46<03:31 1.9841]\n",
              "    </div>\n",
              "    "
            ],
            "text/plain": [
              "<IPython.core.display.HTML object>"
            ]
          },
          "metadata": {
            "tags": []
          }
        },
        {
          "output_type": "stream",
          "text": [
            "LR Finder is complete, type {learner_name}.recorder.plot() to see the graph.\n"
          ],
          "name": "stdout"
        }
      ]
    },
    {
      "cell_type": "code",
      "metadata": {
        "id": "o7HD7ykAqF4i",
        "colab_type": "code",
        "colab": {
          "base_uri": "https://localhost:8080/",
          "height": 279
        },
        "outputId": "b90238d9-5b29-4f0d-d2e0-4e357d75822a"
      },
      "source": [
        "learn.recorder.plot()"
      ],
      "execution_count": 46,
      "outputs": [
        {
          "output_type": "display_data",
          "data": {
            "image/png": "[encoded data removed]",
            "text/plain": [
              "<Figure size 432x288 with 1 Axes>"
            ]
          },
          "metadata": {
            "tags": []
          }
        }
      ]
    },
    {
      "cell_type": "code",
      "metadata": {
        "id": "4a7T8N3SqF4l",
        "colab_type": "code",
        "outputId": "77a014de-e25b-447c-855d-5fcda7bab037",
        "colab": {
          "base_uri": "https://localhost:8080/",
          "height": 77
        }
      },
      "source": [
        "learn.fit_one_cycle(1, 2e-2, moms=(0.8,0.7))"
      ],
      "execution_count": 47,
      "outputs": [
        {
          "output_type": "display_data",
          "data": {
            "text/html": [
              "<table border=\"1\" class=\"dataframe\">\n",
              "  <thead>\n",
              "    <tr style=\"text-align: left;\">\n",
              "      <th>epoch</th>\n",
              "      <th>train_loss</th>\n",
              "      <th>valid_loss</th>\n",
              "      <th>accuracy</th>\n",
              "      <th>time</th>\n",
              "    </tr>\n",
              "  </thead>\n",
              "  <tbody>\n",
              "    <tr>\n",
              "      <td>0</td>\n",
              "      <td>0.334898</td>\n",
              "      <td>0.260062</td>\n",
              "      <td>0.893480</td>\n",
              "      <td>06:10</td>\n",
              "    </tr>\n",
              "  </tbody>\n",
              "</table>"
            ],
            "text/plain": [
              "<IPython.core.display.HTML object>"
            ]
          },
          "metadata": {
            "tags": []
          }
        }
      ]
    },
    {
      "cell_type": "code",
      "metadata": {
        "id": "iZTzeTt5qF4m",
        "colab_type": "code",
        "colab": {}
      },
      "source": [
        "learn.save('first')"
      ],
      "execution_count": 0,
      "outputs": []
    },
    {
      "cell_type": "code",
      "metadata": {
        "id": "RbmOAHC0qF4p",
        "colab_type": "code",
        "colab": {}
      },
      "source": [
        "learn.load('first');"
      ],
      "execution_count": 0,
      "outputs": []
    },
    {
      "cell_type": "code",
      "metadata": {
        "id": "YVPTrD2VqF4r",
        "colab_type": "code",
        "outputId": "cbba6f47-68b4-4ed0-d509-ed272ee7af3c",
        "colab": {
          "base_uri": "https://localhost:8080/",
          "height": 77
        }
      },
      "source": [
        "learn.freeze_to(-2)\n",
        "learn.fit_one_cycle(1, slice(1e-2/(2.6**4),1e-2), moms=(0.8,0.7))"
      ],
      "execution_count": 50,
      "outputs": [
        {
          "output_type": "display_data",
          "data": {
            "text/html": [
              "<table border=\"1\" class=\"dataframe\">\n",
              "  <thead>\n",
              "    <tr style=\"text-align: left;\">\n",
              "      <th>epoch</th>\n",
              "      <th>train_loss</th>\n",
              "      <th>valid_loss</th>\n",
              "      <th>accuracy</th>\n",
              "      <th>time</th>\n",
              "    </tr>\n",
              "  </thead>\n",
              "  <tbody>\n",
              "    <tr>\n",
              "      <td>0</td>\n",
              "      <td>0.270386</td>\n",
              "      <td>0.219999</td>\n",
              "      <td>0.914200</td>\n",
              "      <td>05:32</td>\n",
              "    </tr>\n",
              "  </tbody>\n",
              "</table>"
            ],
            "text/plain": [
              "<IPython.core.display.HTML object>"
            ]
          },
          "metadata": {
            "tags": []
          }
        }
      ]
    },
    {
      "cell_type": "code",
      "metadata": {
        "id": "NfZpFwW6qF4t",
        "colab_type": "code",
        "colab": {}
      },
      "source": [
        "learn.save('second')"
      ],
      "execution_count": 0,
      "outputs": []
    },
    {
      "cell_type": "code",
      "metadata": {
        "id": "NneOSzQPqF4u",
        "colab_type": "code",
        "colab": {}
      },
      "source": [
        "learn.load('second');"
      ],
      "execution_count": 0,
      "outputs": []
    },
    {
      "cell_type": "code",
      "metadata": {
        "id": "l8zu0Gl_qF4w",
        "colab_type": "code",
        "outputId": "d04561a3-80c6-46d0-d029-231a23103037",
        "colab": {
          "base_uri": "https://localhost:8080/",
          "height": 77
        }
      },
      "source": [
        "learn.freeze_to(-3)\n",
        "learn.fit_one_cycle(1, slice(5e-3/(2.6**4),5e-3), moms=(0.8,0.7))"
      ],
      "execution_count": 53,
      "outputs": [
        {
          "output_type": "display_data",
          "data": {
            "text/html": [
              "<table border=\"1\" class=\"dataframe\">\n",
              "  <thead>\n",
              "    <tr style=\"text-align: left;\">\n",
              "      <th>epoch</th>\n",
              "      <th>train_loss</th>\n",
              "      <th>valid_loss</th>\n",
              "      <th>accuracy</th>\n",
              "      <th>time</th>\n",
              "    </tr>\n",
              "  </thead>\n",
              "  <tbody>\n",
              "    <tr>\n",
              "      <td>0</td>\n",
              "      <td>0.237804</td>\n",
              "      <td>0.185082</td>\n",
              "      <td>0.927440</td>\n",
              "      <td>06:20</td>\n",
              "    </tr>\n",
              "  </tbody>\n",
              "</table>"
            ],
            "text/plain": [
              "<IPython.core.display.HTML object>"
            ]
          },
          "metadata": {
            "tags": []
          }
        }
      ]
    },
    {
      "cell_type": "code",
      "metadata": {
        "id": "vbI3IUFlqF4y",
        "colab_type": "code",
        "colab": {}
      },
      "source": [
        "learn.save('third')"
      ],
      "execution_count": 0,
      "outputs": []
    },
    {
      "cell_type": "code",
      "metadata": {
        "id": "LKMQmmYIqF42",
        "colab_type": "code",
        "colab": {}
      },
      "source": [
        "learn.load('third');"
      ],
      "execution_count": 0,
      "outputs": []
    },
    {
      "cell_type": "code",
      "metadata": {
        "id": "9XWKQh_KqF45",
        "colab_type": "code",
        "outputId": "010a41f5-3aa3-4b09-ab23-a6abf022ec1c",
        "colab": {
          "base_uri": "https://localhost:8080/",
          "height": 106
        }
      },
      "source": [
        "learn.unfreeze()\n",
        "learn.fit_one_cycle(2, slice(1e-3/(2.6**4),1e-3), moms=(0.8,0.7))"
      ],
      "execution_count": 56,
      "outputs": [
        {
          "output_type": "display_data",
          "data": {
            "text/html": [
              "<table border=\"1\" class=\"dataframe\">\n",
              "  <thead>\n",
              "    <tr style=\"text-align: left;\">\n",
              "      <th>epoch</th>\n",
              "      <th>train_loss</th>\n",
              "      <th>valid_loss</th>\n",
              "      <th>accuracy</th>\n",
              "      <th>time</th>\n",
              "    </tr>\n",
              "  </thead>\n",
              "  <tbody>\n",
              "    <tr>\n",
              "      <td>0</td>\n",
              "      <td>0.207484</td>\n",
              "      <td>0.175483</td>\n",
              "      <td>0.932480</td>\n",
              "      <td>06:06</td>\n",
              "    </tr>\n",
              "    <tr>\n",
              "      <td>1</td>\n",
              "      <td>0.187598</td>\n",
              "      <td>0.172547</td>\n",
              "      <td>0.932440</td>\n",
              "      <td>05:35</td>\n",
              "    </tr>\n",
              "  </tbody>\n",
              "</table>"
            ],
            "text/plain": [
              "<IPython.core.display.HTML object>"
            ]
          },
          "metadata": {
            "tags": []
          }
        }
      ]
    },
    {
      "cell_type": "code",
      "metadata": {
        "id": "h5gH7UxjqF49",
        "colab_type": "code",
        "outputId": "d6a3fb08-64e3-4c99-9c10-0df47069bcd3",
        "colab": {
          "base_uri": "https://localhost:8080/",
          "height": 34
        }
      },
      "source": [
        "learn.predict(\"I really loved that movie, it was awesome!\")"
      ],
      "execution_count": 57,
      "outputs": [
        {
          "output_type": "execute_result",
          "data": {
            "text/plain": [
              "(Category pos, tensor(1), tensor([5.7784e-04, 9.9942e-01]))"
            ]
          },
          "metadata": {
            "tags": []
          },
          "execution_count": 57
        }
      ]
    },
    {
      "cell_type": "code",
      "metadata": {
        "id": "J9JqvRxcqF5A",
        "colab_type": "code",
        "colab": {}
      },
      "source": [
        ""
      ],
      "execution_count": 0,
      "outputs": []
    }
  ]
}
{
  "nbformat": 4,
  "nbformat_minor": 0,
  "metadata": {
    "kernelspec": {
      "name": "python3",
      "display_name": "Python 3"
    },
    "colab": {
      "name": "Copy of lesson2-download.ipynb",
      "provenance": []
    },
    "accelerator": "GPU",
    "widgets": {
      "application/vnd.jupyter.widget-state+json": {
        "fbe50ba1d6514bd29e4fe908dabf8a6f": {
          "model_module": "@jupyter-widgets/controls",
          "model_name": "HBoxModel",
          "state": {
            "_view_name": "HBoxView",
            "_dom_classes": [],
            "_model_name": "HBoxModel",
            "_view_module": "@jupyter-widgets/controls",
            "_model_module_version": "1.5.0",
            "_view_count": null,
            "_view_module_version": "1.5.0",
            "box_style": "",
            "layout": "IPY_MODEL_16b4932114a547efafbd4fae882cf3e1",
            "_model_module": "@jupyter-widgets/controls",
            "children": [
              "IPY_MODEL_ff0c59c65f2f46dfb4ef1c8eb56205c8",
              "IPY_MODEL_879bb401277f41be8b1cfed4d32416a1"
            ]
          }
        },
        "16b4932114a547efafbd4fae882cf3e1": {
          "model_module": "@jupyter-widgets/base",
          "model_name": "LayoutModel",
          "state": {
            "_view_name": "LayoutView",
            "grid_template_rows": null,
            "right": null,
            "justify_content": null,
            "_view_module": "@jupyter-widgets/base",
            "overflow": null,
            "_model_module_version": "1.2.0",
            "_view_count": null,
            "flex_flow": null,
            "width": null,
            "min_width": null,
            "border": null,
            "align_items": null,
            "bottom": null,
            "_model_module": "@jupyter-widgets/base",
            "top": null,
            "grid_column": null,
            "overflow_y": null,
            "overflow_x": null,
            "grid_auto_flow": null,
            "grid_area": null,
            "grid_template_columns": null,
            "flex": null,
            "_model_name": "LayoutModel",
            "justify_items": null,
            "grid_row": null,
            "max_height": null,
            "align_content": null,
            "visibility": null,
            "align_self": null,
            "height": null,
            "min_height": null,
            "padding": null,
            "grid_auto_rows": null,
            "grid_gap": null,
            "max_width": null,
            "order": null,
            "_view_module_version": "1.2.0",
            "grid_template_areas": null,
            "object_position": null,
            "object_fit": null,
            "grid_auto_columns": null,
            "margin": null,
            "display": null,
            "left": null
          }
        },
        "ff0c59c65f2f46dfb4ef1c8eb56205c8": {
          "model_module": "@jupyter-widgets/controls",
          "model_name": "IntProgressModel",
          "state": {
            "_view_name": "ProgressView",
            "style": "IPY_MODEL_7234908ee1254f009be437e89d71683f",
            "_dom_classes": [],
            "description": "100%",
            "_model_name": "IntProgressModel",
            "bar_style": "success",
            "max": 87306240,
            "_view_module": "@jupyter-widgets/controls",
            "_model_module_version": "1.5.0",
            "value": 87306240,
            "_view_count": null,
            "_view_module_version": "1.5.0",
            "orientation": "horizontal",
            "min": 0,
            "description_tooltip": null,
            "_model_module": "@jupyter-widgets/controls",
            "layout": "IPY_MODEL_80ad5ea9aae94a85916c0751d1964174"
          }
        },
        "879bb401277f41be8b1cfed4d32416a1": {
          "model_module": "@jupyter-widgets/controls",
          "model_name": "HTMLModel",
          "state": {
            "_view_name": "HTMLView",
            "style": "IPY_MODEL_5c21f585f1c24d9e9f0f3e7ec467eabb",
            "_dom_classes": [],
            "description": "",
            "_model_name": "HTMLModel",
            "placeholder": "​",
            "_view_module": "@jupyter-widgets/controls",
            "_model_module_version": "1.5.0",
            "value": " 83.3M/83.3M [02:30&lt;00:00, 580kB/s]",
            "_view_count": null,
            "_view_module_version": "1.5.0",
            "description_tooltip": null,
            "_model_module": "@jupyter-widgets/controls",
            "layout": "IPY_MODEL_b25c0dedfd194c92a5a226e129b4ef7a"
          }
        },
        "7234908ee1254f009be437e89d71683f": {
          "model_module": "@jupyter-widgets/controls",
          "model_name": "ProgressStyleModel",
          "state": {
            "_view_name": "StyleView",
            "_model_name": "ProgressStyleModel",
            "description_width": "initial",
            "_view_module": "@jupyter-widgets/base",
            "_model_module_version": "1.5.0",
            "_view_count": null,
            "_view_module_version": "1.2.0",
            "bar_color": null,
            "_model_module": "@jupyter-widgets/controls"
          }
        },
        "80ad5ea9aae94a85916c0751d1964174": {
          "model_module": "@jupyter-widgets/base",
          "model_name": "LayoutModel",
          "state": {
            "_view_name": "LayoutView",
            "grid_template_rows": null,
            "right": null,
            "justify_content": null,
            "_view_module": "@jupyter-widgets/base",
            "overflow": null,
            "_model_module_version": "1.2.0",
            "_view_count": null,
            "flex_flow": null,
            "width": null,
            "min_width": null,
            "border": null,
            "align_items": null,
            "bottom": null,
            "_model_module": "@jupyter-widgets/base",
            "top": null,
            "grid_column": null,
            "overflow_y": null,
            "overflow_x": null,
            "grid_auto_flow": null,
            "grid_area": null,
            "grid_template_columns": null,
            "flex": null,
            "_model_name": "LayoutModel",
            "justify_items": null,
            "grid_row": null,
            "max_height": null,
            "align_content": null,
            "visibility": null,
            "align_self": null,
            "height": null,
            "min_height": null,
            "padding": null,
            "grid_auto_rows": null,
            "grid_gap": null,
            "max_width": null,
            "order": null,
            "_view_module_version": "1.2.0",
            "grid_template_areas": null,
            "object_position": null,
            "object_fit": null,
            "grid_auto_columns": null,
            "margin": null,
            "display": null,
            "left": null
          }
        },
        "5c21f585f1c24d9e9f0f3e7ec467eabb": {
          "model_module": "@jupyter-widgets/controls",
          "model_name": "DescriptionStyleModel",
          "state": {
            "_view_name": "StyleView",
            "_model_name": "DescriptionStyleModel",
            "description_width": "",
            "_view_module": "@jupyter-widgets/base",
            "_model_module_version": "1.5.0",
            "_view_count": null,
            "_view_module_version": "1.2.0",
            "_model_module": "@jupyter-widgets/controls"
          }
        },
        "b25c0dedfd194c92a5a226e129b4ef7a": {
          "model_module": "@jupyter-widgets/base",
          "model_name": "LayoutModel",
          "state": {
            "_view_name": "LayoutView",
            "grid_template_rows": null,
            "right": null,
            "justify_content": null,
            "_view_module": "@jupyter-widgets/base",
            "overflow": null,
            "_model_module_version": "1.2.0",
            "_view_count": null,
            "flex_flow": null,
            "width": null,
            "min_width": null,
            "border": null,
            "align_items": null,
            "bottom": null,
            "_model_module": "@jupyter-widgets/base",
            "top": null,
            "grid_column": null,
            "overflow_y": null,
            "overflow_x": null,
            "grid_auto_flow": null,
            "grid_area": null,
            "grid_template_columns": null,
            "flex": null,
            "_model_name": "LayoutModel",
            "justify_items": null,
            "grid_row": null,
            "max_height": null,
            "align_content": null,
            "visibility": null,
            "align_self": null,
            "height": null,
            "min_height": null,
            "padding": null,
            "grid_auto_rows": null,
            "grid_gap": null,
            "max_width": null,
            "order": null,
            "_view_module_version": "1.2.0",
            "grid_template_areas": null,
            "object_position": null,
            "object_fit": null,
            "grid_auto_columns": null,
            "margin": null,
            "display": null,
            "left": null
          }
        },
        "9b34ebc0e2e4416591402d6a1311fe2c": {
          "model_module": "@jupyter-widgets/controls",
          "model_name": "HBoxModel",
          "state": {
            "_view_name": "HBoxView",
            "_dom_classes": [],
            "_model_name": "HBoxModel",
            "_view_module": "@jupyter-widgets/controls",
            "_model_module_version": "1.5.0",
            "_view_count": null,
            "_view_module_version": "1.5.0",
            "box_style": "",
            "layout": "IPY_MODEL_02f510ddb45a43d1b90bf21fa6f2678b",
            "_model_module": "@jupyter-widgets/controls",
            "children": [
              "IPY_MODEL_733a7eac2b9c43e5805ff4fa5cc81e21",
              "IPY_MODEL_bdb0522adf214736a790db2cd9ae1332"
            ]
          }
        },
        "02f510ddb45a43d1b90bf21fa6f2678b": {
          "model_module": "@jupyter-widgets/base",
          "model_name": "LayoutModel",
          "state": {
            "_view_name": "LayoutView",
            "grid_template_rows": null,
            "right": null,
            "justify_content": null,
            "_view_module": "@jupyter-widgets/base",
            "overflow": null,
            "_model_module_version": "1.2.0",
            "_view_count": null,
            "flex_flow": null,
            "width": null,
            "min_width": null,
            "border": null,
            "align_items": null,
            "bottom": null,
            "_model_module": "@jupyter-widgets/base",
            "top": null,
            "grid_column": null,
            "overflow_y": null,
            "overflow_x": null,
            "grid_auto_flow": null,
            "grid_area": null,
            "grid_template_columns": null,
            "flex": null,
            "_model_name": "LayoutModel",
            "justify_items": null,
            "grid_row": null,
            "max_height": null,
            "align_content": null,
            "visibility": null,
            "align_self": null,
            "height": null,
            "min_height": null,
            "padding": null,
            "grid_auto_rows": null,
            "grid_gap": null,
            "max_width": null,
            "order": null,
            "_view_module_version": "1.2.0",
            "grid_template_areas": null,
            "object_position": null,
            "object_fit": null,
            "grid_auto_columns": null,
            "margin": null,
            "display": null,
            "left": null
          }
        },
        "733a7eac2b9c43e5805ff4fa5cc81e21": {
          "model_module": "@jupyter-widgets/controls",
          "model_name": "IntProgressModel",
          "state": {
            "_view_name": "ProgressView",
            "style": "IPY_MODEL_619f9390277b487ab2674a879c1c415c",
            "_dom_classes": [],
            "description": "100%",
            "_model_name": "IntProgressModel",
            "bar_style": "success",
            "max": 102502400,
            "_view_module": "@jupyter-widgets/controls",
            "_model_module_version": "1.5.0",
            "value": 102502400,
            "_view_count": null,
            "_view_module_version": "1.5.0",
            "orientation": "horizontal",
            "min": 0,
            "description_tooltip": null,
            "_model_module": "@jupyter-widgets/controls",
            "layout": "IPY_MODEL_c5beec1303d94707b94b7d0d02c68726"
          }
        },
        "bdb0522adf214736a790db2cd9ae1332": {
          "model_module": "@jupyter-widgets/controls",
          "model_name": "HTMLModel",
          "state": {
            "_view_name": "HTMLView",
            "style": "IPY_MODEL_1e5f6d65f8754a4e9ff34099828f95b9",
            "_dom_classes": [],
            "description": "",
            "_model_name": "HTMLModel",
            "placeholder": "​",
            "_view_module": "@jupyter-widgets/controls",
            "_model_module_version": "1.5.0",
            "value": " 97.8M/97.8M [00:00&lt;00:00, 104MB/s]",
            "_view_count": null,
            "_view_module_version": "1.5.0",
            "description_tooltip": null,
            "_model_module": "@jupyter-widgets/controls",
            "layout": "IPY_MODEL_f975a99caca845e1bc043ef12505c6a7"
          }
        },
        "619f9390277b487ab2674a879c1c415c": {
          "model_module": "@jupyter-widgets/controls",
          "model_name": "ProgressStyleModel",
          "state": {
            "_view_name": "StyleView",
            "_model_name": "ProgressStyleModel",
            "description_width": "initial",
            "_view_module": "@jupyter-widgets/base",
            "_model_module_version": "1.5.0",
            "_view_count": null,
            "_view_module_version": "1.2.0",
            "bar_color": null,
            "_model_module": "@jupyter-widgets/controls"
          }
        },
        "c5beec1303d94707b94b7d0d02c68726": {
          "model_module": "@jupyter-widgets/base",
          "model_name": "LayoutModel",
          "state": {
            "_view_name": "LayoutView",
            "grid_template_rows": null,
            "right": null,
            "justify_content": null,
            "_view_module": "@jupyter-widgets/base",
            "overflow": null,
            "_model_module_version": "1.2.0",
            "_view_count": null,
            "flex_flow": null,
            "width": null,
            "min_width": null,
            "border": null,
            "align_items": null,
            "bottom": null,
            "_model_module": "@jupyter-widgets/base",
            "top": null,
            "grid_column": null,
            "overflow_y": null,
            "overflow_x": null,
            "grid_auto_flow": null,
            "grid_area": null,
            "grid_template_columns": null,
            "flex": null,
            "_model_name": "LayoutModel",
            "justify_items": null,
            "grid_row": null,
            "max_height": null,
            "align_content": null,
            "visibility": null,
            "align_self": null,
            "height": null,
            "min_height": null,
            "padding": null,
            "grid_auto_rows": null,
            "grid_gap": null,
            "max_width": null,
            "order": null,
            "_view_module_version": "1.2.0",
            "grid_template_areas": null,
            "object_position": null,
            "object_fit": null,
            "grid_auto_columns": null,
            "margin": null,
            "display": null,
            "left": null
          }
        },
        "1e5f6d65f8754a4e9ff34099828f95b9": {
          "model_module": "@jupyter-widgets/controls",
          "model_name": "DescriptionStyleModel",
          "state": {
            "_view_name": "StyleView",
            "_model_name": "DescriptionStyleModel",
            "description_width": "",
            "_view_module": "@jupyter-widgets/base",
            "_model_module_version": "1.5.0",
            "_view_count": null,
            "_view_module_version": "1.2.0",
            "_model_module": "@jupyter-widgets/controls"
          }
        },
        "f975a99caca845e1bc043ef12505c6a7": {
          "model_module": "@jupyter-widgets/base",
          "model_name": "LayoutModel",
          "state": {
            "_view_name": "LayoutView",
            "grid_template_rows": null,
            "right": null,
            "justify_content": null,
            "_view_module": "@jupyter-widgets/base",
            "overflow": null,
            "_model_module_version": "1.2.0",
            "_view_count": null,
            "flex_flow": null,
            "width": null,
            "min_width": null,
            "border": null,
            "align_items": null,
            "bottom": null,
            "_model_module": "@jupyter-widgets/base",
            "top": null,
            "grid_column": null,
            "overflow_y": null,
            "overflow_x": null,
            "grid_auto_flow": null,
            "grid_area": null,
            "grid_template_columns": null,
            "flex": null,
            "_model_name": "LayoutModel",
            "justify_items": null,
            "grid_row": null,
            "max_height": null,
            "align_content": null,
            "visibility": null,
            "align_self": null,
            "height": null,
            "min_height": null,
            "padding": null,
            "grid_auto_rows": null,
            "grid_gap": null,
            "max_width": null,
            "order": null,
            "_view_module_version": "1.2.0",
            "grid_template_areas": null,
            "object_position": null,
            "object_fit": null,
            "grid_auto_columns": null,
            "margin": null,
            "display": null,
            "left": null
          }
        }
      }
    }
  },
  "cells": [
    {
      "cell_type": "markdown",
      "metadata": {
        "hide_input": false,
        "id": "QfCCnHtGiYPv",
        "colab_type": "text"
      },
      "source": [
        "# Creating your own dataset from Google Images\n",
        "\n",
        "*by: Francisco Ingham and Jeremy Howard. Inspired by [Adrian Rosebrock](https://www.pyimagesearch.com/2017/12/04/how-to-create-a-deep-learning-dataset-using-google-images/)*"
      ]
    },
    {
      "cell_type": "code",
      "metadata": {
        "id": "cm484Hmt6Tu4",
        "colab_type": "code",
        "colab": {
          "base_uri": "https://localhost:8080/",
          "height": 121
        },
        "outputId": "9e5936a3-463e-4101-c30a-4e83398e17e6"
      },
      "source": [
        "from google.colab import drive\n",
        "drive.mount('/content/drive')"
      ],
      "execution_count": 1,
      "outputs": [
        {
          "output_type": "stream",
          "text": [
            "Go to this URL in a browser: https://accounts.google.com/o/oauth2/auth?client_id=947318989803-6bn6qk8qdgf4n4g3pfee6491hc0brc4i.apps.googleusercontent.com&redirect_uri=urn%3aietf%3awg%3aoauth%3a2.0%3aoob&response_type=code&scope=email%20https%3a%2f%2fwww.googleapis.com%2fauth%2fdocs.test%20https%3a%2f%2fwww.googleapis.com%2fauth%2fdrive%20https%3a%2f%2fwww.googleapis.com%2fauth%2fdrive.photos.readonly%20https%3a%2f%2fwww.googleapis.com%2fauth%2fpeopleapi.readonly\n",
            "\n",
            "Enter your authorization code:\n",
            "··········\n",
            "Mounted at /content/drive\n"
          ],
          "name": "stdout"
        }
      ]
    },
    {
      "cell_type": "code",
      "metadata": {
        "id": "pal9GTKX6qL_",
        "colab_type": "code",
        "colab": {}
      },
      "source": [
        "%reload_ext autoreload\n",
        "%autoreload 2\n",
        "%matplotlib inline"
      ],
      "execution_count": 0,
      "outputs": []
    },
    {
      "cell_type": "markdown",
      "metadata": {
        "hide_input": true,
        "id": "gdhKx_0yiYPy",
        "colab_type": "text"
      },
      "source": [
        "In this tutorial we will see how to easily create an image dataset through Google Images. **Note**: You will have to repeat these steps for any new category you want to Google (e.g once for dogs and once for cats)."
      ]
    },
    {
      "cell_type": "code",
      "metadata": {
        "hide_input": false,
        "id": "TRK1RdkjiYPz",
        "colab_type": "code",
        "colab": {}
      },
      "source": [
        "from fastai.vision import * # import libraries needed"
      ],
      "execution_count": 0,
      "outputs": []
    },
    {
      "cell_type": "markdown",
      "metadata": {
        "id": "EuaToupMiYP3",
        "colab_type": "text"
      },
      "source": [
        "## Get a list of URLs"
      ]
    },
    {
      "cell_type": "markdown",
      "metadata": {
        "id": "QsYjQUdeiYP4",
        "colab_type": "text"
      },
      "source": [
        "### Search and scroll"
      ]
    },
    {
      "cell_type": "markdown",
      "metadata": {
        "id": "nUGsWegOiYP5",
        "colab_type": "text"
      },
      "source": [
        "Go to [Google Images](http://images.google.com) and search for the images you are interested in. The more specific you are in your Google Search, the better the results and the less manual pruning you will have to do.\n",
        "\n",
        "Scroll down until you've seen all the images you want to download, or until you see a button that says 'Show more results'. All the images you scrolled past are now available to download. To get more, click on the button, and continue scrolling. The maximum number of images Google Images shows is 700.\n",
        "\n",
        "It is a good idea to put things you want to exclude into the search query, for instance if you are searching for the Eurasian wolf, \"canis lupus lupus\", it might be a good idea to exclude other variants:\n",
        "\n",
        "    \"canis lupus lupus\" -dog -arctos -familiaris -baileyi -occidentalis\n",
        "\n",
        "You can also limit your results to show only photos by clicking on Tools and selecting Photos from the Type dropdown."
      ]
    },
    {
      "cell_type": "markdown",
      "metadata": {
        "id": "FhjVXJiUiYP6",
        "colab_type": "text"
      },
      "source": [
        "### Download into file"
      ]
    },
    {
      "cell_type": "markdown",
      "metadata": {
        "id": "p-4TSOXYiYP7",
        "colab_type": "text"
      },
      "source": [
        "Now you must run some Javascript code in your browser which will save the URLs of all the images you want for you dataset.\n",
        "\n",
        "In Google Chrome press <kbd>Ctrl</kbd><kbd>Shift</kbd><kbd>j</kbd> on Windows/Linux and <kbd>Cmd</kbd><kbd>Opt</kbd><kbd>j</kbd> on macOS, and a small window the javascript 'Console' will appear. In Firefox press <kbd>Ctrl</kbd><kbd>Shift</kbd><kbd>k</kbd> on Windows/Linux or <kbd>Cmd</kbd><kbd>Opt</kbd><kbd>k</kbd> on macOS. That is where you will paste the JavaScript commands.\n",
        "\n",
        "You will need to get the urls of each of the images. Before running the following commands, you may want to disable ad blocking extensions (uBlock, AdBlockPlus etc.) in Chrome. Otherwise the window.open() command doesn't work. Then you can run the following commands:\n",
        "\n",
        "```javascript\n",
        "urls=Array.from(document.querySelectorAll('.rg_i')).map(el=> el.hasAttribute('data-src')?el.getAttribute('data-src'):el.getAttribute('data-iurl'));\n",
        "window.open('data:text/csv;charset=utf-8,' + escape(urls.join('\\n')));\n",
        "```"
      ]
    },
    {
      "cell_type": "markdown",
      "metadata": {
        "id": "g0SD9QkliYP8",
        "colab_type": "text"
      },
      "source": [
        "### Create directory and upload urls file into your server"
      ]
    },
    {
      "cell_type": "markdown",
      "metadata": {
        "id": "3OIyIBYziYP9",
        "colab_type": "text"
      },
      "source": [
        "Choose an appropriate name for your labeled images. You can run these steps multiple times to create different labels."
      ]
    },
    {
      "cell_type": "code",
      "metadata": {
        "id": "FlAfrH3MiYP-",
        "colab_type": "code",
        "colab": {}
      },
      "source": [
        "#Make folders for each category \n",
        "folder = 'electronic' \n",
        "file = 'electronic_piano.txt'"
      ],
      "execution_count": 0,
      "outputs": []
    },
    {
      "cell_type": "code",
      "metadata": {
        "id": "f1DZNRdeiYQB",
        "colab_type": "code",
        "colab": {}
      },
      "source": [
        "folder = 'grand'\n",
        "file = 'grand_piano.txt'"
      ],
      "execution_count": 0,
      "outputs": []
    },
    {
      "cell_type": "code",
      "metadata": {
        "id": "sqZkaxjEiYQE",
        "colab_type": "code",
        "colab": {}
      },
      "source": [
        "folder = 'upright'\n",
        "file = 'upright_piano.txt'"
      ],
      "execution_count": 0,
      "outputs": []
    },
    {
      "cell_type": "markdown",
      "metadata": {
        "id": "nv6hbcB0iYQH",
        "colab_type": "text"
      },
      "source": [
        "You will need to run this cell once per each category."
      ]
    },
    {
      "cell_type": "code",
      "metadata": {
        "id": "j8f4D-_jiYQI",
        "colab_type": "code",
        "colab": {}
      },
      "source": [
        "path = Path('drive/My Drive/fastai')\n",
        "dest = path/folder\n",
        "dest.mkdir(parents=True, exist_ok=True)"
      ],
      "execution_count": 0,
      "outputs": []
    },
    {
      "cell_type": "code",
      "metadata": {
        "id": "sp2K0ML4iYQL",
        "colab_type": "code",
        "outputId": "7ceef42a-f44f-41e5-d254-c1643833f214",
        "colab": {
          "base_uri": "https://localhost:8080/",
          "height": 286
        }
      },
      "source": [
        "path.ls() #check the directory to make sure all files and folders are in place"
      ],
      "execution_count": 16,
      "outputs": [
        {
          "output_type": "execute_result",
          "data": {
            "text/plain": [
              "[PosixPath('drive/My Drive/fastai/lavender.jpg'),\n",
              " PosixPath('drive/My Drive/fastai/대학원생명단2020010ANT6320_01.xls'),\n",
              " PosixPath('drive/My Drive/fastai/학부수강생명단2020010MAS2009_01.xls'),\n",
              " PosixPath('drive/My Drive/fastai/학부수강생명단2020010MAS2009_01 (1).xls.gdoc'),\n",
              " PosixPath('drive/My Drive/fastai/학부수강생명단2020010MAS2009_01.xls.gdoc'),\n",
              " PosixPath('drive/My Drive/fastai/대학원생명단2020010ANT6320_01.xls.gdoc'),\n",
              " PosixPath('drive/My Drive/fastai/7.png'),\n",
              " PosixPath('drive/My Drive/fastai/Copy of 00_notebook_tutorial.ipynb'),\n",
              " PosixPath('drive/My Drive/fastai/Copy of lesson1-pets.ipynb'),\n",
              " PosixPath('drive/My Drive/fastai/Machine Learning 수업.gsheet'),\n",
              " PosixPath('drive/My Drive/fastai/electronic'),\n",
              " PosixPath('drive/My Drive/fastai/grand_piano.txt'),\n",
              " PosixPath('drive/My Drive/fastai/upright_piano.txt'),\n",
              " PosixPath('drive/My Drive/fastai/electronic_piano.txt'),\n",
              " PosixPath('drive/My Drive/fastai/grand'),\n",
              " PosixPath('drive/My Drive/fastai/upright')]"
            ]
          },
          "metadata": {
            "tags": []
          },
          "execution_count": 16
        }
      ]
    },
    {
      "cell_type": "markdown",
      "metadata": {
        "id": "0slPRJC4iYQP",
        "colab_type": "text"
      },
      "source": [
        "Finally, upload your urls file. You just need to press 'Upload' in your working directory and select your file, then click 'Upload' for each of the displayed files.\n",
        "\n",
        "![uploaded file](https://github.com/fastai/course-v3/blob/master/nbs/dl1/images/download_images/upload.png?raw=1)"
      ]
    },
    {
      "cell_type": "markdown",
      "metadata": {
        "id": "3RnPakohiYQQ",
        "colab_type": "text"
      },
      "source": [
        "## Download images"
      ]
    },
    {
      "cell_type": "markdown",
      "metadata": {
        "id": "-6WN7ybpiYQR",
        "colab_type": "text"
      },
      "source": [
        "Now you will need to download your images from their respective urls.\n",
        "\n",
        "fast.ai has a function that allows you to do just that. You just have to specify the urls filename as well as the destination folder and this function will download and save all images that can be opened. If they have some problem in being opened, they will not be saved.\n",
        "\n",
        "Let's download our images! Notice you can choose a maximum number of images to be downloaded. In this case we will not download all the urls.\n",
        "\n",
        "You will need to run this line once for every category."
      ]
    },
    {
      "cell_type": "code",
      "metadata": {
        "id": "NK9Ds876iYQS",
        "colab_type": "code",
        "colab": {}
      },
      "source": [
        "classes = ['electronic','grand','upright'] #labels for our classes"
      ],
      "execution_count": 0,
      "outputs": []
    },
    {
      "cell_type": "code",
      "metadata": {
        "id": "QeTeWdPviYQV",
        "colab_type": "code",
        "outputId": "2ede0fdb-7aeb-4c8f-a639-8abeac085f24",
        "colab": {
          "base_uri": "https://localhost:8080/",
          "height": 689
        }
      },
      "source": [
        "download_images(path/file, dest, max_pics=200) #dl images, you can ignore the invalid urls if there is enough images downloaded"
      ],
      "execution_count": 17,
      "outputs": [
        {
          "output_type": "display_data",
          "data": {
            "text/html": [
              ""
            ],
            "text/plain": [
              "<IPython.core.display.HTML object>"
            ]
          },
          "metadata": {
            "tags": []
          }
        },
        {
          "output_type": "stream",
          "text": [
            "Error  Invalid URL '': No schema supplied. Perhaps you meant http://?\n",
            "Error  Invalid URL '': No schema supplied. Perhaps you meant http://?\n",
            "Error  Invalid URL '': No schema supplied. Perhaps you meant http://?\n",
            "Error  Invalid URL '': No schema supplied. Perhaps you meant http://?\n",
            "Error  Invalid URL '': No schema supplied. Perhaps you meant http://?\n",
            "Error  Invalid URL '': No schema supplied. Perhaps you meant http://?\n",
            "Error  Invalid URL '': No schema supplied. Perhaps you meant http://?\n",
            "Error  Invalid URL '': No schema supplied. Perhaps you meant http://?\n",
            "Error  Invalid URL '': No schema supplied. Perhaps you meant http://?\n",
            "Error  Invalid URL '': No schema supplied. Perhaps you meant http://?\n",
            "Error  Invalid URL '': No schema supplied. Perhaps you meant http://?\n",
            "Error  Invalid URL '': No schema supplied. Perhaps you meant http://?\n",
            "Error  Invalid URL '': No schema supplied. Perhaps you meant http://?\n",
            "Error  Invalid URL '': No schema supplied. Perhaps you meant http://?\n",
            "Error  Invalid URL '': No schema supplied. Perhaps you meant http://?\n",
            "Error  Invalid URL '': No schema supplied. Perhaps you meant http://?\n",
            "Error  Invalid URL '': No schema supplied. Perhaps you meant http://?\n",
            "Error  Invalid URL '': No schema supplied. Perhaps you meant http://?\n",
            "Error  Invalid URL '': No schema supplied. Perhaps you meant http://?\n",
            "Error  Invalid URL '': No schema supplied. Perhaps you meant http://?\n",
            "Error  Invalid URL '': No schema supplied. Perhaps you meant http://?\n",
            "Error  Invalid URL '': No schema supplied. Perhaps you meant http://?\n",
            "Error  Invalid URL '': No schema supplied. Perhaps you meant http://?\n",
            "Error  Invalid URL '': No schema supplied. Perhaps you meant http://?\n",
            "Error  Invalid URL '': No schema supplied. Perhaps you meant http://?\n",
            "Error  Invalid URL '': No schema supplied. Perhaps you meant http://?\n",
            "Error  Invalid URL '': No schema supplied. Perhaps you meant http://?\n",
            "Error  Invalid URL '': No schema supplied. Perhaps you meant http://?\n",
            "Error  Invalid URL '': No schema supplied. Perhaps you meant http://?\n",
            "Error  Invalid URL '': No schema supplied. Perhaps you meant http://?\n",
            "Error  Invalid URL '': No schema supplied. Perhaps you meant http://?\n",
            "Error  Invalid URL '': No schema supplied. Perhaps you meant http://?\n",
            "Error  Invalid URL '': No schema supplied. Perhaps you meant http://?\n",
            "Error  Invalid URL '': No schema supplied. Perhaps you meant http://?\n",
            "Error  Invalid URL '': No schema supplied. Perhaps you meant http://?\n",
            "Error  Invalid URL '': No schema supplied. Perhaps you meant http://?\n",
            "Error  Invalid URL '': No schema supplied. Perhaps you meant http://?\n",
            "Error  Invalid URL '': No schema supplied. Perhaps you meant http://?\n",
            "Error  Invalid URL '': No schema supplied. Perhaps you meant http://?\n",
            "Error  Invalid URL '': No schema supplied. Perhaps you meant http://?\n"
          ],
          "name": "stdout"
        }
      ]
    },
    {
      "cell_type": "code",
      "metadata": {
        "id": "KUNCPwGFiYQa",
        "colab_type": "code",
        "outputId": "89bce534-486d-4b99-95ab-4a4d313b649d",
        "colab": {}
      },
      "source": [
        "# If you have problems download, try with `max_workers=0` to see exceptions:\n",
        "download_images(path/file, dest, max_pics=20, max_workers=0)"
      ],
      "execution_count": 0,
      "outputs": [
        {
          "output_type": "stream",
          "text": [
            ""
          ],
          "name": "stdout"
        }
      ]
    },
    {
      "cell_type": "markdown",
      "metadata": {
        "id": "49gOhAcgiYQc",
        "colab_type": "text"
      },
      "source": [
        "Then we can remove any images that can't be opened:"
      ]
    },
    {
      "cell_type": "code",
      "metadata": {
        "id": "xQVOFbYIiYQd",
        "colab_type": "code",
        "outputId": "a4c80077-71b1-402c-97bc-231d0a9ad713",
        "colab": {
          "base_uri": "https://localhost:8080/",
          "height": 67
        }
      },
      "source": [
        "for c in classes:\n",
        "    print(c) #classes\n",
        "    verify_images(path/c, delete=True, max_size=500) #the verifying function deletes corrupted files / anything that cannot be opened"
      ],
      "execution_count": 18,
      "outputs": [
        {
          "output_type": "stream",
          "text": [
            "electronic\n"
          ],
          "name": "stdout"
        },
        {
          "output_type": "display_data",
          "data": {
            "text/html": [
              ""
            ],
            "text/plain": [
              "<IPython.core.display.HTML object>"
            ]
          },
          "metadata": {
            "tags": []
          }
        },
        {
          "output_type": "stream",
          "text": [
            "grand\n"
          ],
          "name": "stdout"
        },
        {
          "output_type": "display_data",
          "data": {
            "text/html": [
              ""
            ],
            "text/plain": [
              "<IPython.core.display.HTML object>"
            ]
          },
          "metadata": {
            "tags": []
          }
        },
        {
          "output_type": "stream",
          "text": [
            "upright\n"
          ],
          "name": "stdout"
        },
        {
          "output_type": "display_data",
          "data": {
            "text/html": [
              ""
            ],
            "text/plain": [
              "<IPython.core.display.HTML object>"
            ]
          },
          "metadata": {
            "tags": []
          }
        }
      ]
    },
    {
      "cell_type": "markdown",
      "metadata": {
        "id": "Kf1XHHntiYQg",
        "colab_type": "text"
      },
      "source": [
        "## View data"
      ]
    },
    {
      "cell_type": "code",
      "metadata": {
        "id": "TJT6yRF0iYQh",
        "colab_type": "code",
        "colab": {}
      },
      "source": [
        "np.random.seed(42) # makes the random numbers predictable\n",
        "data = ImageDataBunch.from_folder(path, train=\".\", valid_pct=0.2,\n",
        "        ds_tfms=get_transforms(), size=224, num_workers=4).normalize(imagenet_stats) #making the dataset with images of the same size, a train and a valid set"
      ],
      "execution_count": 0,
      "outputs": []
    },
    {
      "cell_type": "code",
      "metadata": {
        "id": "DLbrQ8iZiYQk",
        "colab_type": "code",
        "colab": {}
      },
      "source": [
        "# If you already cleaned your data, run this cell instead of the one before\n",
        "# np.random.seed(42)\n",
        "# data = ImageDataBunch.from_csv(path, folder=\".\", valid_pct=0.2, csv_labels='cleaned.csv',\n",
        "#         ds_tfms=get_transforms(), size=224, num_workers=4).normalize(imagenet_stats)"
      ],
      "execution_count": 0,
      "outputs": []
    },
    {
      "cell_type": "markdown",
      "metadata": {
        "id": "RlFi4hj6iYQn",
        "colab_type": "text"
      },
      "source": [
        "Good! Let's take a look at some of our pictures then."
      ]
    },
    {
      "cell_type": "code",
      "metadata": {
        "id": "GYGqxbl2iYQo",
        "colab_type": "code",
        "outputId": "0b213807-9b71-490d-f905-2b63129cde48",
        "colab": {
          "base_uri": "https://localhost:8080/",
          "height": 34
        }
      },
      "source": [
        "data.classes #checking on our labels"
      ],
      "execution_count": 22,
      "outputs": [
        {
          "output_type": "execute_result",
          "data": {
            "text/plain": [
              "['electronic', 'fastai', 'grand', 'upright']"
            ]
          },
          "metadata": {
            "tags": []
          },
          "execution_count": 22
        }
      ]
    },
    {
      "cell_type": "code",
      "metadata": {
        "id": "6zyASXMxiYQq",
        "colab_type": "code",
        "outputId": "70d3ba2c-c3a8-4d52-8166-93208f926299",
        "colab": {
          "base_uri": "https://localhost:8080/",
          "height": 573
        }
      },
      "source": [
        "data.show_batch(rows=3, figsize=(7,8)) #lets see a few examples to make sure images are uploaded and labeled correctly"
      ],
      "execution_count": 23,
      "outputs": [
        {
          "output_type": "display_data",
          "data": {
            "image/png": "[encoded data removed]",
            "text/plain": [
              "<Figure size 504x576 with 9 Axes>"
            ]
          },
          "metadata": {
            "tags": []
          }
        }
      ]
    },
    {
      "cell_type": "code",
      "metadata": {
        "id": "agwzh0cbiYQu",
        "colab_type": "code",
        "outputId": "519f1518-d12b-482f-93fb-4bfbd8acf183",
        "colab": {
          "base_uri": "https://localhost:8080/",
          "height": 34
        }
      },
      "source": [
        "data.classes, data.c, len(data.train_ds), len(data.valid_ds) #print the 3 labels, length of the train division, length of the valid division"
      ],
      "execution_count": 24,
      "outputs": [
        {
          "output_type": "execute_result",
          "data": {
            "text/plain": [
              "(['electronic', 'fastai', 'grand', 'upright'], 4, 386, 96)"
            ]
          },
          "metadata": {
            "tags": []
          },
          "execution_count": 24
        }
      ]
    },
    {
      "cell_type": "markdown",
      "metadata": {
        "id": "lk4kGc7tiYQy",
        "colab_type": "text"
      },
      "source": [
        "## Train model"
      ]
    },
    {
      "cell_type": "code",
      "metadata": {
        "id": "5JjJP2ItiYQz",
        "colab_type": "code",
        "outputId": "30b0808c-38ff-4177-dc13-963268c9f6d2",
        "colab": {
          "base_uri": "https://localhost:8080/",
          "height": 82,
          "referenced_widgets": [
            "fbe50ba1d6514bd29e4fe908dabf8a6f",
            "16b4932114a547efafbd4fae882cf3e1",
            "ff0c59c65f2f46dfb4ef1c8eb56205c8",
            "879bb401277f41be8b1cfed4d32416a1",
            "7234908ee1254f009be437e89d71683f",
            "80ad5ea9aae94a85916c0751d1964174",
            "5c21f585f1c24d9e9f0f3e7ec467eabb",
            "b25c0dedfd194c92a5a226e129b4ef7a"
          ]
        }
      },
      "source": [
        "learn = cnn_learner(data, models.resnet34, metrics=error_rate) #loading our model : resnet 34"
      ],
      "execution_count": 25,
      "outputs": [
        {
          "output_type": "stream",
          "text": [
            "Downloading: \"https://download.pytorch.org/models/resnet34-333f7ec4.pth\" to /root/.cache/torch/checkpoints/resnet34-333f7ec4.pth\n"
          ],
          "name": "stderr"
        },
        {
          "output_type": "display_data",
          "data": {
            "application/vnd.jupyter.widget-view+json": {
              "model_id": "fbe50ba1d6514bd29e4fe908dabf8a6f",
              "version_minor": 0,
              "version_major": 2
            },
            "text/plain": [
              "HBox(children=(IntProgress(value=0, max=87306240), HTML(value='')))"
            ]
          },
          "metadata": {
            "tags": []
          }
        },
        {
          "output_type": "stream",
          "text": [
            "\n"
          ],
          "name": "stdout"
        }
      ]
    },
    {
      "cell_type": "code",
      "metadata": {
        "id": "cUAJO_APiYQ2",
        "colab_type": "code",
        "outputId": "3ea89e1a-a6b0-44af-ea49-bcd1cc6511ed",
        "colab": {
          "base_uri": "https://localhost:8080/",
          "height": 166
        }
      },
      "source": [
        "learn.fit_one_cycle(4) #now we train on 4 epochs"
      ],
      "execution_count": 26,
      "outputs": [
        {
          "output_type": "display_data",
          "data": {
            "text/html": [
              "<table border=\"1\" class=\"dataframe\">\n",
              "  <thead>\n",
              "    <tr style=\"text-align: left;\">\n",
              "      <th>epoch</th>\n",
              "      <th>train_loss</th>\n",
              "      <th>valid_loss</th>\n",
              "      <th>error_rate</th>\n",
              "      <th>time</th>\n",
              "    </tr>\n",
              "  </thead>\n",
              "  <tbody>\n",
              "    <tr>\n",
              "      <td>0</td>\n",
              "      <td>1.869040</td>\n",
              "      <td>0.898505</td>\n",
              "      <td>0.208333</td>\n",
              "      <td>00:07</td>\n",
              "    </tr>\n",
              "    <tr>\n",
              "      <td>1</td>\n",
              "      <td>1.103181</td>\n",
              "      <td>0.597841</td>\n",
              "      <td>0.093750</td>\n",
              "      <td>00:06</td>\n",
              "    </tr>\n",
              "    <tr>\n",
              "      <td>2</td>\n",
              "      <td>0.858375</td>\n",
              "      <td>0.477728</td>\n",
              "      <td>0.104167</td>\n",
              "      <td>00:06</td>\n",
              "    </tr>\n",
              "    <tr>\n",
              "      <td>3</td>\n",
              "      <td>0.712516</td>\n",
              "      <td>0.471621</td>\n",
              "      <td>0.104167</td>\n",
              "      <td>00:06</td>\n",
              "    </tr>\n",
              "  </tbody>\n",
              "</table>"
            ],
            "text/plain": [
              "<IPython.core.display.HTML object>"
            ]
          },
          "metadata": {
            "tags": []
          }
        }
      ]
    },
    {
      "cell_type": "code",
      "metadata": {
        "id": "J5Yxx3bmiYQ5",
        "colab_type": "code",
        "colab": {}
      },
      "source": [
        "learn.save('stage-1') #saving our weights"
      ],
      "execution_count": 0,
      "outputs": []
    },
    {
      "cell_type": "code",
      "metadata": {
        "id": "8loqY7gAiYQ7",
        "colab_type": "code",
        "colab": {}
      },
      "source": [
        "learn.unfreeze() #enable learner to train from new weights"
      ],
      "execution_count": 0,
      "outputs": []
    },
    {
      "cell_type": "code",
      "metadata": {
        "id": "9p2pBaCgiYQ9",
        "colab_type": "code",
        "outputId": "f52b88c6-8c6a-4fa1-baff-0d26f5de788b",
        "colab": {
          "base_uri": "https://localhost:8080/",
          "height": 406
        }
      },
      "source": [
        "learn.lr_find() #find the learning rate"
      ],
      "execution_count": 29,
      "outputs": [
        {
          "output_type": "display_data",
          "data": {
            "text/html": [
              "\n",
              "    <div>\n",
              "        <style>\n",
              "            /* Turns off some styling */\n",
              "            progress {\n",
              "                /* gets rid of default border in Firefox and Opera. */\n",
              "                border: none;\n",
              "                /* Needs to be in here for Safari polyfill so background images work as expected. */\n",
              "                background-size: auto;\n",
              "            }\n",
              "            .progress-bar-interrupted, .progress-bar-interrupted::-webkit-progress-bar {\n",
              "                background: #F44336;\n",
              "            }\n",
              "        </style>\n",
              "      <progress value='10' class='' max='17', style='width:300px; height:20px; vertical-align: middle;'></progress>\n",
              "      58.82% [10/17 00:49<00:34]\n",
              "    </div>\n",
              "    \n",
              "<table border=\"1\" class=\"dataframe\">\n",
              "  <thead>\n",
              "    <tr style=\"text-align: left;\">\n",
              "      <th>epoch</th>\n",
              "      <th>train_loss</th>\n",
              "      <th>valid_loss</th>\n",
              "      <th>error_rate</th>\n",
              "      <th>time</th>\n",
              "    </tr>\n",
              "  </thead>\n",
              "  <tbody>\n",
              "    <tr>\n",
              "      <td>0</td>\n",
              "      <td>0.222304</td>\n",
              "      <td>#na#</td>\n",
              "      <td>00:05</td>\n",
              "    </tr>\n",
              "    <tr>\n",
              "      <td>1</td>\n",
              "      <td>0.279031</td>\n",
              "      <td>#na#</td>\n",
              "      <td>00:05</td>\n",
              "    </tr>\n",
              "    <tr>\n",
              "      <td>2</td>\n",
              "      <td>0.259145</td>\n",
              "      <td>#na#</td>\n",
              "      <td>00:04</td>\n",
              "    </tr>\n",
              "    <tr>\n",
              "      <td>3</td>\n",
              "      <td>0.223122</td>\n",
              "      <td>#na#</td>\n",
              "      <td>00:05</td>\n",
              "    </tr>\n",
              "    <tr>\n",
              "      <td>4</td>\n",
              "      <td>0.226621</td>\n",
              "      <td>#na#</td>\n",
              "      <td>00:04</td>\n",
              "    </tr>\n",
              "    <tr>\n",
              "      <td>5</td>\n",
              "      <td>0.199530</td>\n",
              "      <td>#na#</td>\n",
              "      <td>00:04</td>\n",
              "    </tr>\n",
              "    <tr>\n",
              "      <td>6</td>\n",
              "      <td>0.178100</td>\n",
              "      <td>#na#</td>\n",
              "      <td>00:04</td>\n",
              "    </tr>\n",
              "    <tr>\n",
              "      <td>7</td>\n",
              "      <td>0.156925</td>\n",
              "      <td>#na#</td>\n",
              "      <td>00:05</td>\n",
              "    </tr>\n",
              "    <tr>\n",
              "      <td>8</td>\n",
              "      <td>0.162662</td>\n",
              "      <td>#na#</td>\n",
              "      <td>00:04</td>\n",
              "    </tr>\n",
              "    <tr>\n",
              "      <td>9</td>\n",
              "      <td>0.386609</td>\n",
              "      <td>#na#</td>\n",
              "      <td>00:04</td>\n",
              "    </tr>\n",
              "  </tbody>\n",
              "</table><p>\n",
              "\n",
              "    <div>\n",
              "        <style>\n",
              "            /* Turns off some styling */\n",
              "            progress {\n",
              "                /* gets rid of default border in Firefox and Opera. */\n",
              "                border: none;\n",
              "                /* Needs to be in here for Safari polyfill so background images work as expected. */\n",
              "                background-size: auto;\n",
              "            }\n",
              "            .progress-bar-interrupted, .progress-bar-interrupted::-webkit-progress-bar {\n",
              "                background: #F44336;\n",
              "            }\n",
              "        </style>\n",
              "      <progress value='4' class='' max='6', style='width:300px; height:20px; vertical-align: middle;'></progress>\n",
              "      66.67% [4/6 00:03<00:01 0.5914]\n",
              "    </div>\n",
              "    "
            ],
            "text/plain": [
              "<IPython.core.display.HTML object>"
            ]
          },
          "metadata": {
            "tags": []
          }
        },
        {
          "output_type": "stream",
          "text": [
            "LR Finder is complete, type {learner_name}.recorder.plot() to see the graph.\n"
          ],
          "name": "stdout"
        }
      ]
    },
    {
      "cell_type": "code",
      "metadata": {
        "id": "lJqpH7wViYRA",
        "colab_type": "code",
        "outputId": "55c485e4-3a99-4445-e4a9-4538e1a50093",
        "colab": {
          "base_uri": "https://localhost:8080/",
          "height": 279
        }
      },
      "source": [
        "# If the plot is not showing try to give a start and end learning rate\n",
        "# learn.lr_find(start_lr=1e-5, end_lr=1e-1)\n",
        "learn.recorder.plot()"
      ],
      "execution_count": 30,
      "outputs": [
        {
          "output_type": "display_data",
          "data": {
            "image/png": "[encoded data removed]",
            "text/plain": [
              "<Figure size 432x288 with 1 Axes>"
            ]
          },
          "metadata": {
            "tags": []
          }
        }
      ]
    },
    {
      "cell_type": "code",
      "metadata": {
        "id": "H-Xz_5RviYRD",
        "colab_type": "code",
        "outputId": "f4a2cf46-1717-4b11-f0f6-e37b0e44422c",
        "colab": {
          "base_uri": "https://localhost:8080/",
          "height": 106
        }
      },
      "source": [
        "learn.fit_one_cycle(2, max_lr=slice(1e-6,1e-4)) #let's train this where the model was most efficient"
      ],
      "execution_count": 31,
      "outputs": [
        {
          "output_type": "display_data",
          "data": {
            "text/html": [
              "<table border=\"1\" class=\"dataframe\">\n",
              "  <thead>\n",
              "    <tr style=\"text-align: left;\">\n",
              "      <th>epoch</th>\n",
              "      <th>train_loss</th>\n",
              "      <th>valid_loss</th>\n",
              "      <th>error_rate</th>\n",
              "      <th>time</th>\n",
              "    </tr>\n",
              "  </thead>\n",
              "  <tbody>\n",
              "    <tr>\n",
              "      <td>0</td>\n",
              "      <td>0.325855</td>\n",
              "      <td>0.459703</td>\n",
              "      <td>0.104167</td>\n",
              "      <td>00:06</td>\n",
              "    </tr>\n",
              "    <tr>\n",
              "      <td>1</td>\n",
              "      <td>0.256838</td>\n",
              "      <td>0.453350</td>\n",
              "      <td>0.114583</td>\n",
              "      <td>00:06</td>\n",
              "    </tr>\n",
              "  </tbody>\n",
              "</table>"
            ],
            "text/plain": [
              "<IPython.core.display.HTML object>"
            ]
          },
          "metadata": {
            "tags": []
          }
        }
      ]
    },
    {
      "cell_type": "code",
      "metadata": {
        "id": "oSunPwEFiYRF",
        "colab_type": "code",
        "colab": {}
      },
      "source": [
        "learn.save('stage-2') #let's save our weights"
      ],
      "execution_count": 0,
      "outputs": []
    },
    {
      "cell_type": "markdown",
      "metadata": {
        "id": "SnK1BYNuiYRI",
        "colab_type": "text"
      },
      "source": [
        "## Interpretation"
      ]
    },
    {
      "cell_type": "code",
      "metadata": {
        "id": "WXAc13TMiYRI",
        "colab_type": "code",
        "colab": {}
      },
      "source": [
        "learn.load('stage-2'); #let's make sure we have the model loaded at the right stage "
      ],
      "execution_count": 0,
      "outputs": []
    },
    {
      "cell_type": "code",
      "metadata": {
        "id": "UPfyXpFJiYRL",
        "colab_type": "code",
        "outputId": "5b4119a8-56ea-46d0-dba4-a4f207ac716c",
        "colab": {
          "base_uri": "https://localhost:8080/",
          "height": 17
        }
      },
      "source": [
        "interp = ClassificationInterpretation.from_learner(learn) "
      ],
      "execution_count": 35,
      "outputs": [
        {
          "output_type": "display_data",
          "data": {
            "text/html": [
              ""
            ],
            "text/plain": [
              "<IPython.core.display.HTML object>"
            ]
          },
          "metadata": {
            "tags": []
          }
        }
      ]
    },
    {
      "cell_type": "code",
      "metadata": {
        "id": "KhFt29fZiYRP",
        "colab_type": "code",
        "outputId": "289c97ef-d788-472b-f44f-cfc4a2dc95da",
        "colab": {
          "base_uri": "https://localhost:8080/",
          "height": 311
        }
      },
      "source": [
        "interp.plot_confusion_matrix() # so we can see a few images were not put in the right category. \n",
        "# for example 3 electronic pianos were classified as grand pianos"
      ],
      "execution_count": 36,
      "outputs": [
        {
          "output_type": "display_data",
          "data": {
            "image/png": "[encoded data removed]",
            "text/plain": [
              "<Figure size 432x288 with 1 Axes>"
            ]
          },
          "metadata": {
            "tags": []
          }
        }
      ]
    },
    {
      "cell_type": "markdown",
      "metadata": {
        "id": "vuevFi-eiYRS",
        "colab_type": "text"
      },
      "source": [
        "## Cleaning Up\n",
        "\n",
        "Some of our top losses aren't due to bad performance by our model. There are images in our data set that shouldn't be.\n",
        "\n",
        "Using the `ImageCleaner` widget from `fastai.widgets` we can prune our top losses, removing photos that don't belong."
      ]
    },
    {
      "cell_type": "code",
      "metadata": {
        "id": "OETktbn2iYRT",
        "colab_type": "code",
        "colab": {}
      },
      "source": [
        "from fastai.widgets import * #lets load additional functions "
      ],
      "execution_count": 0,
      "outputs": []
    },
    {
      "cell_type": "markdown",
      "metadata": {
        "id": "bIfWJBc7iYRW",
        "colab_type": "text"
      },
      "source": [
        "First we need to get the file paths from our top_losses. We can do this with `.from_toplosses`. We then feed the top losses indexes and corresponding dataset to `ImageCleaner`.\n",
        "\n",
        "Notice that the widget will not delete images directly from disk but it will create a new csv file `cleaned.csv` from where you can create a new ImageDataBunch with the corrected labels to continue training your model."
      ]
    },
    {
      "cell_type": "markdown",
      "metadata": {
        "id": "PBoQdzaliYRX",
        "colab_type": "text"
      },
      "source": [
        "In order to clean the entire set of images, we need to create a new dataset without the split. The video lecture demostrated the use of the `ds_type` param which no longer has any effect. See [the thread](https://forums.fast.ai/t/duplicate-widget/30975/10) for more details."
      ]
    },
    {
      "cell_type": "code",
      "metadata": {
        "id": "Ifsa5qkyiYRX",
        "colab_type": "code",
        "colab": {}
      },
      "source": [
        "db = (ImageList.from_folder(path)\n",
        "                   .split_none()\n",
        "                   .label_from_folder()\n",
        "                   .transform(get_transforms(), size=224)\n",
        "                   .databunch()\n",
        "     ) #this time we're loading the dataset as one, no train/validation sets"
      ],
      "execution_count": 0,
      "outputs": []
    },
    {
      "cell_type": "code",
      "metadata": {
        "id": "b7V7u05ziYRb",
        "colab_type": "code",
        "colab": {}
      },
      "source": [
        "# If you already cleaned your data using indexes from `from_toplosses`,\n",
        "# run this cell instead of the one before to proceed with removing duplicates.\n",
        "# Otherwise all the results of the previous step would be overwritten by\n",
        "# the new run of `ImageCleaner`.\n",
        "\n",
        "# db = (ImageList.from_csv(path, 'cleaned.csv', folder='.')\n",
        "#                    .split_none()\n",
        "#                    .label_from_df()\n",
        "#                    .transform(get_transforms(), size=224)\n",
        "#                    .databunch()\n",
        "#      )"
      ],
      "execution_count": 0,
      "outputs": []
    },
    {
      "cell_type": "markdown",
      "metadata": {
        "id": "T3BM_DrIiYRe",
        "colab_type": "text"
      },
      "source": [
        "Then we create a new learner to use our new databunch with all the images."
      ]
    },
    {
      "cell_type": "code",
      "metadata": {
        "id": "y4Hf9kFCiYRf",
        "colab_type": "code",
        "colab": {}
      },
      "source": [
        "learn_cln = cnn_learner(db, models.resnet34, metrics=error_rate)\n",
        "\n",
        "learn_cln.load('stage-2');"
      ],
      "execution_count": 0,
      "outputs": []
    },
    {
      "cell_type": "code",
      "metadata": {
        "id": "qz-MNUTfiYRh",
        "colab_type": "code",
        "outputId": "858fa0fc-53cb-4cbf-fba2-dd62f871e419",
        "colab": {
          "base_uri": "https://localhost:8080/",
          "height": 17
        }
      },
      "source": [
        "ds, idxs = DatasetFormatter().from_toplosses(learn_cln)"
      ],
      "execution_count": 40,
      "outputs": [
        {
          "output_type": "display_data",
          "data": {
            "text/html": [
              ""
            ],
            "text/plain": [
              "<IPython.core.display.HTML object>"
            ]
          },
          "metadata": {
            "tags": []
          }
        }
      ]
    },
    {
      "cell_type": "markdown",
      "metadata": {
        "id": "YihSu8X4iYRj",
        "colab_type": "text"
      },
      "source": [
        "Make sure you're running this notebook in Jupyter Notebook, not Jupyter Lab. That is accessible via [/tree](/tree), not [/lab](/lab). Running the `ImageCleaner` widget in Jupyter Lab is [not currently supported](https://github.com/fastai/fastai/issues/1539)."
      ]
    },
    {
      "cell_type": "code",
      "metadata": {
        "id": "YI2kVxtbiYRk",
        "colab_type": "code",
        "colab": {}
      },
      "source": [
        "# Don't run this in google colab or any other instances running jupyter lab.\n",
        "# If you do run this on Jupyter Lab, you need to restart your runtime and\n",
        "# runtime state including all local variables will be lost.\n",
        "ImageCleaner(ds, idxs, path)\n",
        "\n",
        "#as this doesn't work in colab, the data was cleaned manually. "
      ],
      "execution_count": 0,
      "outputs": []
    },
    {
      "cell_type": "markdown",
      "metadata": {
        "id": "rBLWVOWoiYRm",
        "colab_type": "text"
      },
      "source": [
        "\n",
        "If the code above does not show any GUI(contains images and buttons) rendered by widgets but only text output, that may caused by the configuration problem of ipywidgets. Try the solution in this [link](https://github.com/fastai/fastai/issues/1539#issuecomment-505999861) to solve it.\n"
      ]
    },
    {
      "cell_type": "markdown",
      "metadata": {
        "id": "kM83ZKwPiYRn",
        "colab_type": "text"
      },
      "source": [
        "Flag photos for deletion by clicking 'Delete'. Then click 'Next Batch' to delete flagged photos and keep the rest in that row. `ImageCleaner` will show you a new row of images until there are no more to show. In this case, the widget will show you images until there are none left from `top_losses.ImageCleaner(ds, idxs)`"
      ]
    },
    {
      "cell_type": "markdown",
      "metadata": {
        "id": "BmIpiPMYiYRn",
        "colab_type": "text"
      },
      "source": [
        "You can also find duplicates in your dataset and delete them! To do this, you need to run `.from_similars` to get the potential duplicates' ids and then run `ImageCleaner` with `duplicates=True`. The API works in a similar way as with misclassified images: just choose the ones you want to delete and click 'Next Batch' until there are no more images left."
      ]
    },
    {
      "cell_type": "markdown",
      "metadata": {
        "id": "FOejSOV4iYRo",
        "colab_type": "text"
      },
      "source": [
        "Make sure to recreate the databunch and `learn_cln` from the `cleaned.csv` file. Otherwise the file would be overwritten from scratch, losing all the results from cleaning the data from toplosses."
      ]
    },
    {
      "cell_type": "code",
      "metadata": {
        "id": "XXZiZgxuiYRo",
        "colab_type": "code",
        "outputId": "61a62166-3462-4457-aca7-85692bc253c7",
        "colab": {
          "base_uri": "https://localhost:8080/",
          "height": 70
        }
      },
      "source": [
        "ds, idxs = DatasetFormatter().from_similars(learn_cln)"
      ],
      "execution_count": 0,
      "outputs": [
        {
          "output_type": "stream",
          "text": [
            "Getting activations...\n"
          ],
          "name": "stdout"
        },
        {
          "output_type": "display_data",
          "data": {
            "text/html": [
              "\n",
              "    <div>\n",
              "        <style>\n",
              "            /* Turns off some styling */\n",
              "            progress {\n",
              "                /* gets rid of default border in Firefox and Opera. */\n",
              "                border: none;\n",
              "                /* Needs to be in here for Safari polyfill so background images work as expected. */\n",
              "                background-size: auto;\n",
              "            }\n",
              "            .progress-bar-interrupted, .progress-bar-interrupted::-webkit-progress-bar {\n",
              "                background: #F44336;\n",
              "            }\n",
              "        </style>\n",
              "      <progress value='8' class='' max='8', style='width:300px; height:20px; vertical-align: middle;'></progress>\n",
              "      100.00% [8/8 00:03<00:00]\n",
              "    </div>\n",
              "    "
            ],
            "text/plain": [
              "<IPython.core.display.HTML object>"
            ]
          },
          "metadata": {
            "tags": []
          }
        },
        {
          "output_type": "stream",
          "text": [
            "Computing similarities...\n"
          ],
          "name": "stdout"
        }
      ]
    },
    {
      "cell_type": "code",
      "metadata": {
        "id": "_v0fYkZFiYRs",
        "colab_type": "code",
        "colab": {}
      },
      "source": [
        "ImageCleaner(ds, idxs, path, duplicates=True)"
      ],
      "execution_count": 0,
      "outputs": []
    },
    {
      "cell_type": "markdown",
      "metadata": {
        "id": "sF6PEVkXiYRv",
        "colab_type": "text"
      },
      "source": [
        "Remember to recreate your ImageDataBunch from your `cleaned.csv` to include the changes you made in your data!"
      ]
    },
    {
      "cell_type": "markdown",
      "metadata": {
        "id": "97wB-_hgiYRw",
        "colab_type": "text"
      },
      "source": [
        "## Putting your model in production"
      ]
    },
    {
      "cell_type": "markdown",
      "metadata": {
        "id": "TqCD73YFiYRw",
        "colab_type": "text"
      },
      "source": [
        "First thing first, let's export the content of our `Learner` object for production:"
      ]
    },
    {
      "cell_type": "code",
      "metadata": {
        "id": "ypaGtnQGiYRx",
        "colab_type": "code",
        "colab": {}
      },
      "source": [
        "learn.export()"
      ],
      "execution_count": 0,
      "outputs": []
    },
    {
      "cell_type": "markdown",
      "metadata": {
        "id": "F28jXp5_iYR0",
        "colab_type": "text"
      },
      "source": [
        "This will create a file named 'export.pkl' in the directory where we were working that contains everything we need to deploy our model (the model, the weights but also some metadata like the classes or the transforms/normalization used)."
      ]
    },
    {
      "cell_type": "markdown",
      "metadata": {
        "id": "Ht19VlGdiYR2",
        "colab_type": "text"
      },
      "source": [
        "You probably want to use CPU for inference, except at massive scale (and you almost certainly don't need to train in real-time). If you don't have a GPU that happens automatically. You can test your model on CPU like so:"
      ]
    },
    {
      "cell_type": "code",
      "metadata": {
        "id": "OmsoO3dKiYR2",
        "colab_type": "code",
        "colab": {}
      },
      "source": [
        "defaults.device = torch.device('cuda') #change this to CPU if you don't want to use GPU"
      ],
      "execution_count": 0,
      "outputs": []
    },
    {
      "cell_type": "code",
      "metadata": {
        "id": "sgzBqUDqyUQi",
        "colab_type": "code",
        "outputId": "e54057ec-63a1-448b-f53d-755eb0ccf24f",
        "colab": {
          "base_uri": "https://localhost:8080/",
          "height": 173
        }
      },
      "source": [
        "img = open_image(path/'electronic'/'00000021.jpg')\n",
        "img"
      ],
      "execution_count": 43,
      "outputs": [
        {
          "output_type": "execute_result",
          "data": {
            "image/png": "[encoded data removed]",
            "image/jpeg": "[encoded data removed]",
            "text/plain": [
              "Image (3, 156, 323)"
            ]
          },
          "metadata": {
            "tags": []
          },
          "execution_count": 43
        }
      ]
    },
    {
      "cell_type": "markdown",
      "metadata": {
        "id": "MzlkRrsOiYR6",
        "colab_type": "text"
      },
      "source": [
        "We create our `Learner` in production enviromnent like this, just make sure that `path` contains the file 'export.pkl' from before."
      ]
    },
    {
      "cell_type": "code",
      "metadata": {
        "id": "JglMQEr-iYR7",
        "colab_type": "code",
        "colab": {}
      },
      "source": [
        "learn = load_learner(path) #path contains the export file, we can load it"
      ],
      "execution_count": 0,
      "outputs": []
    },
    {
      "cell_type": "code",
      "metadata": {
        "id": "eOhheyQciYR-",
        "colab_type": "code",
        "outputId": "1491956d-a38d-4511-d381-15cc0e5e5855",
        "colab": {
          "base_uri": "https://localhost:8080/",
          "height": 34
        }
      },
      "source": [
        "pred_class,pred_idx,outputs = learn.predict(img) #our learner can predict the class of this image right !\n",
        "pred_class"
      ],
      "execution_count": 45,
      "outputs": [
        {
          "output_type": "execute_result",
          "data": {
            "text/plain": [
              "Category electronic"
            ]
          },
          "metadata": {
            "tags": []
          },
          "execution_count": 45
        }
      ]
    },
    {
      "cell_type": "markdown",
      "metadata": {
        "id": "Zl6poIdRiYSA",
        "colab_type": "text"
      },
      "source": [
        "So you might create a route something like this ([thanks](https://github.com/simonw/cougar-or-not) to Simon Willison for the structure of this code):\n",
        "\n",
        "```python\n",
        "@app.route(\"/classify-url\", methods=[\"GET\"])\n",
        "async def classify_url(request):\n",
        "    bytes = await get_bytes(request.query_params[\"url\"])\n",
        "    img = open_image(BytesIO(bytes))\n",
        "    _,_,losses = learner.predict(img)\n",
        "    return JSONResponse({\n",
        "        \"predictions\": sorted(\n",
        "            zip(cat_learner.data.classes, map(float, losses)),\n",
        "            key=lambda p: p[1],\n",
        "            reverse=True\n",
        "        )\n",
        "    })\n",
        "```\n",
        "\n",
        "(This example is for the [Starlette](https://www.starlette.io/) web app toolkit.)"
      ]
    },
    {
      "cell_type": "markdown",
      "metadata": {
        "id": "qf2DgnSAiYSB",
        "colab_type": "text"
      },
      "source": [
        "## Things that can go wrong"
      ]
    },
    {
      "cell_type": "markdown",
      "metadata": {
        "id": "kQmThnBwiYSB",
        "colab_type": "text"
      },
      "source": [
        "- Most of the time things will train fine with the defaults\n",
        "- There's not much you really need to tune (despite what you've heard!)\n",
        "- Most likely are\n",
        "  - Learning rate\n",
        "  - Number of epochs"
      ]
    },
    {
      "cell_type": "markdown",
      "metadata": {
        "id": "zw7QYYpCiYSC",
        "colab_type": "text"
      },
      "source": [
        "### Learning rate (LR) too high"
      ]
    },
    {
      "cell_type": "code",
      "metadata": {
        "id": "q-mmC3jgBB7y",
        "colab_type": "code",
        "colab": {}
      },
      "source": [
        "data = ImageDataBunch.from_folder(path, train=\".\", valid_pct=0.2,\n",
        "        ds_tfms=get_transforms(), size=224, num_workers=4).normalize(imagenet_stats)"
      ],
      "execution_count": 0,
      "outputs": []
    },
    {
      "cell_type": "code",
      "metadata": {
        "id": "JYvWruNgiYSC",
        "colab_type": "code",
        "colab": {}
      },
      "source": [
        "learn = cnn_learner(data, models.resnet34, metrics=error_rate)"
      ],
      "execution_count": 0,
      "outputs": []
    },
    {
      "cell_type": "code",
      "metadata": {
        "id": "1rQNBybJiYSE",
        "colab_type": "code",
        "outputId": "037e0ebd-a92a-4e65-bfd5-135637eaa49c",
        "colab": {
          "base_uri": "https://localhost:8080/",
          "height": 77
        }
      },
      "source": [
        "learn.fit_one_cycle(1, max_lr=0.5) # this is not efficient because the learning rate is too high. "
      ],
      "execution_count": 50,
      "outputs": [
        {
          "output_type": "display_data",
          "data": {
            "text/html": [
              "<table border=\"1\" class=\"dataframe\">\n",
              "  <thead>\n",
              "    <tr style=\"text-align: left;\">\n",
              "      <th>epoch</th>\n",
              "      <th>train_loss</th>\n",
              "      <th>valid_loss</th>\n",
              "      <th>error_rate</th>\n",
              "      <th>time</th>\n",
              "    </tr>\n",
              "  </thead>\n",
              "  <tbody>\n",
              "    <tr>\n",
              "      <td>0</td>\n",
              "      <td>20.966042</td>\n",
              "      <td>3155979264.000000</td>\n",
              "      <td>0.659341</td>\n",
              "      <td>00:05</td>\n",
              "    </tr>\n",
              "  </tbody>\n",
              "</table>"
            ],
            "text/plain": [
              "<IPython.core.display.HTML object>"
            ]
          },
          "metadata": {
            "tags": []
          }
        }
      ]
    },
    {
      "cell_type": "markdown",
      "metadata": {
        "id": "tyUrmWq0iYSH",
        "colab_type": "text"
      },
      "source": [
        "### Learning rate (LR) too low"
      ]
    },
    {
      "cell_type": "code",
      "metadata": {
        "id": "SBN7J4eIiYSK",
        "colab_type": "code",
        "colab": {}
      },
      "source": [
        "learn = cnn_learner(data, models.resnet34, metrics=error_rate)"
      ],
      "execution_count": 0,
      "outputs": []
    },
    {
      "cell_type": "markdown",
      "metadata": {
        "id": "NzVmg9kYiYSL",
        "colab_type": "text"
      },
      "source": [
        "Previously we had this result:\n",
        "\n",
        "```\n",
        "Total time: 00:57\n",
        "epoch  train_loss  valid_loss  error_rate\n",
        "1      1.030236    0.179226    0.028369    (00:14)\n",
        "2      0.561508    0.055464    0.014184    (00:13)\n",
        "3      0.396103    0.053801    0.014184    (00:13)\n",
        "4      0.316883    0.050197    0.021277    (00:15)\n",
        "```"
      ]
    },
    {
      "cell_type": "code",
      "metadata": {
        "id": "mTFHHEutiYSM",
        "colab_type": "code",
        "outputId": "b68edcce-d2e2-4e0d-c640-3debfd9d6165",
        "colab": {
          "base_uri": "https://localhost:8080/",
          "height": 195
        }
      },
      "source": [
        "learn.fit_one_cycle(5, max_lr=1e-5)"
      ],
      "execution_count": 52,
      "outputs": [
        {
          "output_type": "display_data",
          "data": {
            "text/html": [
              "<table border=\"1\" class=\"dataframe\">\n",
              "  <thead>\n",
              "    <tr style=\"text-align: left;\">\n",
              "      <th>epoch</th>\n",
              "      <th>train_loss</th>\n",
              "      <th>valid_loss</th>\n",
              "      <th>error_rate</th>\n",
              "      <th>time</th>\n",
              "    </tr>\n",
              "  </thead>\n",
              "  <tbody>\n",
              "    <tr>\n",
              "      <td>0</td>\n",
              "      <td>2.198341</td>\n",
              "      <td>1.810206</td>\n",
              "      <td>0.604396</td>\n",
              "      <td>00:04</td>\n",
              "    </tr>\n",
              "    <tr>\n",
              "      <td>1</td>\n",
              "      <td>2.093911</td>\n",
              "      <td>1.555547</td>\n",
              "      <td>0.615385</td>\n",
              "      <td>00:04</td>\n",
              "    </tr>\n",
              "    <tr>\n",
              "      <td>2</td>\n",
              "      <td>2.078865</td>\n",
              "      <td>1.476163</td>\n",
              "      <td>0.648352</td>\n",
              "      <td>00:04</td>\n",
              "    </tr>\n",
              "    <tr>\n",
              "      <td>3</td>\n",
              "      <td>2.059384</td>\n",
              "      <td>1.457297</td>\n",
              "      <td>0.681319</td>\n",
              "      <td>00:04</td>\n",
              "    </tr>\n",
              "    <tr>\n",
              "      <td>4</td>\n",
              "      <td>2.051179</td>\n",
              "      <td>1.463849</td>\n",
              "      <td>0.670330</td>\n",
              "      <td>00:05</td>\n",
              "    </tr>\n",
              "  </tbody>\n",
              "</table>"
            ],
            "text/plain": [
              "<IPython.core.display.HTML object>"
            ]
          },
          "metadata": {
            "tags": []
          }
        }
      ]
    },
    {
      "cell_type": "code",
      "metadata": {
        "id": "2MOvgcUyiYSN",
        "colab_type": "code",
        "outputId": "279c24e6-679f-4468-e2ee-4a4e7eefcb83",
        "colab": {
          "base_uri": "https://localhost:8080/",
          "height": 279
        }
      },
      "source": [
        "learn.recorder.plot_losses() #this is not good because there is a big difference between our train and validation plots. \n",
        "# using more images could help on top of finetuning params"
      ],
      "execution_count": 53,
      "outputs": [
        {
          "output_type": "display_data",
          "data": {
            "image/png": "[encoded data removed]",
            "text/plain": [
              "<Figure size 432x288 with 1 Axes>"
            ]
          },
          "metadata": {
            "tags": []
          }
        }
      ]
    },
    {
      "cell_type": "markdown",
      "metadata": {
        "id": "LIGJovH8iYSP",
        "colab_type": "text"
      },
      "source": [
        "As well as taking a really long time, it's getting too many looks at each image, so may overfit."
      ]
    },
    {
      "cell_type": "markdown",
      "metadata": {
        "id": "h7jAPbTsiYSP",
        "colab_type": "text"
      },
      "source": [
        "### Too few epochs"
      ]
    },
    {
      "cell_type": "code",
      "metadata": {
        "id": "03CaCkd4iYSQ",
        "colab_type": "code",
        "colab": {}
      },
      "source": [
        "learn = cnn_learner(data, models.resnet34, metrics=error_rate, pretrained=False)"
      ],
      "execution_count": 0,
      "outputs": []
    },
    {
      "cell_type": "code",
      "metadata": {
        "id": "vA7HnNtEiYSR",
        "colab_type": "code",
        "outputId": "55d7c35b-c934-4ed9-b85c-0b73b2e3c015",
        "colab": {
          "base_uri": "https://localhost:8080/",
          "height": 77
        }
      },
      "source": [
        "learn.fit_one_cycle(1) #one epoch provides unsatisfactory results. \n",
        "# The point of deep learning is to go through the data multiple times to learn better, so training on several epochs is a must"
      ],
      "execution_count": 55,
      "outputs": [
        {
          "output_type": "display_data",
          "data": {
            "text/html": [
              "<table border=\"1\" class=\"dataframe\">\n",
              "  <thead>\n",
              "    <tr style=\"text-align: left;\">\n",
              "      <th>epoch</th>\n",
              "      <th>train_loss</th>\n",
              "      <th>valid_loss</th>\n",
              "      <th>error_rate</th>\n",
              "      <th>time</th>\n",
              "    </tr>\n",
              "  </thead>\n",
              "  <tbody>\n",
              "    <tr>\n",
              "      <td>0</td>\n",
              "      <td>1.969787</td>\n",
              "      <td>15.313684</td>\n",
              "      <td>0.648352</td>\n",
              "      <td>00:05</td>\n",
              "    </tr>\n",
              "  </tbody>\n",
              "</table>"
            ],
            "text/plain": [
              "<IPython.core.display.HTML object>"
            ]
          },
          "metadata": {
            "tags": []
          }
        }
      ]
    },
    {
      "cell_type": "markdown",
      "metadata": {
        "id": "VdlDzArZiYST",
        "colab_type": "text"
      },
      "source": [
        "### Too many epochs"
      ]
    },
    {
      "cell_type": "code",
      "metadata": {
        "id": "1KVJhrYciYST",
        "colab_type": "code",
        "colab": {}
      },
      "source": [
        "np.random.seed(42)\n",
        "data = ImageDataBunch.from_folder(path, train=\".\", valid_pct=0.9, bs=32, \n",
        "        ds_tfms=get_transforms(do_flip=False, max_rotate=0, max_zoom=1, max_lighting=0, max_warp=0\n",
        "                              ),size=224, num_workers=4).normalize(imagenet_stats)"
      ],
      "execution_count": 0,
      "outputs": []
    },
    {
      "cell_type": "code",
      "metadata": {
        "id": "4KKvixPuiYSV",
        "colab_type": "code",
        "colab": {
          "base_uri": "https://localhost:8080/",
          "height": 82,
          "referenced_widgets": [
            "9b34ebc0e2e4416591402d6a1311fe2c",
            "02f510ddb45a43d1b90bf21fa6f2678b",
            "733a7eac2b9c43e5805ff4fa5cc81e21",
            "bdb0522adf214736a790db2cd9ae1332",
            "619f9390277b487ab2674a879c1c415c",
            "c5beec1303d94707b94b7d0d02c68726",
            "1e5f6d65f8754a4e9ff34099828f95b9",
            "f975a99caca845e1bc043ef12505c6a7"
          ]
        },
        "outputId": "c5c18388-31e4-46d2-aa42-c1919e52404c"
      },
      "source": [
        "learn = cnn_learner(data, models.resnet50, metrics=error_rate, ps=0, wd=0)\n",
        "learn.unfreeze()"
      ],
      "execution_count": 57,
      "outputs": [
        {
          "output_type": "stream",
          "text": [
            "Downloading: \"https://download.pytorch.org/models/resnet50-19c8e357.pth\" to /root/.cache/torch/checkpoints/resnet50-19c8e357.pth\n"
          ],
          "name": "stderr"
        },
        {
          "output_type": "display_data",
          "data": {
            "application/vnd.jupyter.widget-view+json": {
              "model_id": "9b34ebc0e2e4416591402d6a1311fe2c",
              "version_minor": 0,
              "version_major": 2
            },
            "text/plain": [
              "HBox(children=(IntProgress(value=0, max=102502400), HTML(value='')))"
            ]
          },
          "metadata": {
            "tags": []
          }
        },
        {
          "output_type": "stream",
          "text": [
            "\n"
          ],
          "name": "stdout"
        }
      ]
    },
    {
      "cell_type": "code",
      "metadata": {
        "id": "a6OrllTLiYSZ",
        "colab_type": "code",
        "outputId": "2f4592f8-dfab-4d6b-a285-c3e2267745db",
        "colab": {
          "base_uri": "https://localhost:8080/",
          "height": 1000
        }
      },
      "source": [
        "learn.fit_one_cycle(40, slice(1e-6,1e-4)) #even if one epoch isn't enough, 40 might be overdoing it. \n",
        "# the model can bring good results before getting to 40 epochs. Best results are around 25 epochs"
      ],
      "execution_count": 58,
      "outputs": [
        {
          "output_type": "display_data",
          "data": {
            "text/html": [
              "<table border=\"1\" class=\"dataframe\">\n",
              "  <thead>\n",
              "    <tr style=\"text-align: left;\">\n",
              "      <th>epoch</th>\n",
              "      <th>train_loss</th>\n",
              "      <th>valid_loss</th>\n",
              "      <th>error_rate</th>\n",
              "      <th>time</th>\n",
              "    </tr>\n",
              "  </thead>\n",
              "  <tbody>\n",
              "    <tr>\n",
              "      <td>0</td>\n",
              "      <td>2.153703</td>\n",
              "      <td>3.106705</td>\n",
              "      <td>0.669100</td>\n",
              "      <td>00:07</td>\n",
              "    </tr>\n",
              "    <tr>\n",
              "      <td>1</td>\n",
              "      <td>2.110252</td>\n",
              "      <td>2.661309</td>\n",
              "      <td>0.669100</td>\n",
              "      <td>00:03</td>\n",
              "    </tr>\n",
              "    <tr>\n",
              "      <td>2</td>\n",
              "      <td>1.996791</td>\n",
              "      <td>2.295130</td>\n",
              "      <td>0.671533</td>\n",
              "      <td>00:03</td>\n",
              "    </tr>\n",
              "    <tr>\n",
              "      <td>3</td>\n",
              "      <td>1.974891</td>\n",
              "      <td>1.953619</td>\n",
              "      <td>0.666667</td>\n",
              "      <td>00:03</td>\n",
              "    </tr>\n",
              "    <tr>\n",
              "      <td>4</td>\n",
              "      <td>1.876131</td>\n",
              "      <td>1.670445</td>\n",
              "      <td>0.644769</td>\n",
              "      <td>00:03</td>\n",
              "    </tr>\n",
              "    <tr>\n",
              "      <td>5</td>\n",
              "      <td>1.763682</td>\n",
              "      <td>1.386514</td>\n",
              "      <td>0.600973</td>\n",
              "      <td>00:03</td>\n",
              "    </tr>\n",
              "    <tr>\n",
              "      <td>6</td>\n",
              "      <td>1.642349</td>\n",
              "      <td>1.177114</td>\n",
              "      <td>0.518248</td>\n",
              "      <td>00:03</td>\n",
              "    </tr>\n",
              "    <tr>\n",
              "      <td>7</td>\n",
              "      <td>1.492676</td>\n",
              "      <td>1.021876</td>\n",
              "      <td>0.450122</td>\n",
              "      <td>00:03</td>\n",
              "    </tr>\n",
              "    <tr>\n",
              "      <td>8</td>\n",
              "      <td>1.358472</td>\n",
              "      <td>0.885920</td>\n",
              "      <td>0.384428</td>\n",
              "      <td>00:03</td>\n",
              "    </tr>\n",
              "    <tr>\n",
              "      <td>9</td>\n",
              "      <td>1.235644</td>\n",
              "      <td>0.783047</td>\n",
              "      <td>0.326034</td>\n",
              "      <td>00:03</td>\n",
              "    </tr>\n",
              "    <tr>\n",
              "      <td>10</td>\n",
              "      <td>1.131476</td>\n",
              "      <td>0.708085</td>\n",
              "      <td>0.289538</td>\n",
              "      <td>00:03</td>\n",
              "    </tr>\n",
              "    <tr>\n",
              "      <td>11</td>\n",
              "      <td>1.034642</td>\n",
              "      <td>0.638594</td>\n",
              "      <td>0.255474</td>\n",
              "      <td>00:03</td>\n",
              "    </tr>\n",
              "    <tr>\n",
              "      <td>12</td>\n",
              "      <td>0.951168</td>\n",
              "      <td>0.586400</td>\n",
              "      <td>0.228710</td>\n",
              "      <td>00:03</td>\n",
              "    </tr>\n",
              "    <tr>\n",
              "      <td>13</td>\n",
              "      <td>0.878296</td>\n",
              "      <td>0.539334</td>\n",
              "      <td>0.201946</td>\n",
              "      <td>00:03</td>\n",
              "    </tr>\n",
              "    <tr>\n",
              "      <td>14</td>\n",
              "      <td>0.813154</td>\n",
              "      <td>0.497931</td>\n",
              "      <td>0.184915</td>\n",
              "      <td>00:03</td>\n",
              "    </tr>\n",
              "    <tr>\n",
              "      <td>15</td>\n",
              "      <td>0.755015</td>\n",
              "      <td>0.474272</td>\n",
              "      <td>0.180049</td>\n",
              "      <td>00:03</td>\n",
              "    </tr>\n",
              "    <tr>\n",
              "      <td>16</td>\n",
              "      <td>0.703814</td>\n",
              "      <td>0.459596</td>\n",
              "      <td>0.175182</td>\n",
              "      <td>00:03</td>\n",
              "    </tr>\n",
              "    <tr>\n",
              "      <td>17</td>\n",
              "      <td>0.658257</td>\n",
              "      <td>0.441705</td>\n",
              "      <td>0.165450</td>\n",
              "      <td>00:03</td>\n",
              "    </tr>\n",
              "    <tr>\n",
              "      <td>18</td>\n",
              "      <td>0.617393</td>\n",
              "      <td>0.424879</td>\n",
              "      <td>0.155718</td>\n",
              "      <td>00:03</td>\n",
              "    </tr>\n",
              "    <tr>\n",
              "      <td>19</td>\n",
              "      <td>0.580447</td>\n",
              "      <td>0.413788</td>\n",
              "      <td>0.163017</td>\n",
              "      <td>00:03</td>\n",
              "    </tr>\n",
              "    <tr>\n",
              "      <td>20</td>\n",
              "      <td>0.547101</td>\n",
              "      <td>0.407513</td>\n",
              "      <td>0.155718</td>\n",
              "      <td>00:03</td>\n",
              "    </tr>\n",
              "    <tr>\n",
              "      <td>21</td>\n",
              "      <td>0.516788</td>\n",
              "      <td>0.403569</td>\n",
              "      <td>0.155718</td>\n",
              "      <td>00:03</td>\n",
              "    </tr>\n",
              "    <tr>\n",
              "      <td>22</td>\n",
              "      <td>0.489207</td>\n",
              "      <td>0.395437</td>\n",
              "      <td>0.155718</td>\n",
              "      <td>00:04</td>\n",
              "    </tr>\n",
              "    <tr>\n",
              "      <td>23</td>\n",
              "      <td>0.463871</td>\n",
              "      <td>0.390492</td>\n",
              "      <td>0.145985</td>\n",
              "      <td>00:03</td>\n",
              "    </tr>\n",
              "    <tr>\n",
              "      <td>24</td>\n",
              "      <td>0.440692</td>\n",
              "      <td>0.381679</td>\n",
              "      <td>0.145985</td>\n",
              "      <td>00:03</td>\n",
              "    </tr>\n",
              "    <tr>\n",
              "      <td>25</td>\n",
              "      <td>0.419258</td>\n",
              "      <td>0.380743</td>\n",
              "      <td>0.138686</td>\n",
              "      <td>00:03</td>\n",
              "    </tr>\n",
              "    <tr>\n",
              "      <td>26</td>\n",
              "      <td>0.399388</td>\n",
              "      <td>0.379268</td>\n",
              "      <td>0.143552</td>\n",
              "      <td>00:03</td>\n",
              "    </tr>\n",
              "    <tr>\n",
              "      <td>27</td>\n",
              "      <td>0.380972</td>\n",
              "      <td>0.382456</td>\n",
              "      <td>0.141119</td>\n",
              "      <td>00:03</td>\n",
              "    </tr>\n",
              "    <tr>\n",
              "      <td>28</td>\n",
              "      <td>0.363963</td>\n",
              "      <td>0.380038</td>\n",
              "      <td>0.145985</td>\n",
              "      <td>00:03</td>\n",
              "    </tr>\n",
              "    <tr>\n",
              "      <td>29</td>\n",
              "      <td>0.348009</td>\n",
              "      <td>0.375189</td>\n",
              "      <td>0.138686</td>\n",
              "      <td>00:03</td>\n",
              "    </tr>\n",
              "    <tr>\n",
              "      <td>30</td>\n",
              "      <td>0.333159</td>\n",
              "      <td>0.376495</td>\n",
              "      <td>0.143552</td>\n",
              "      <td>00:03</td>\n",
              "    </tr>\n",
              "    <tr>\n",
              "      <td>31</td>\n",
              "      <td>0.319221</td>\n",
              "      <td>0.377831</td>\n",
              "      <td>0.141119</td>\n",
              "      <td>00:03</td>\n",
              "    </tr>\n",
              "    <tr>\n",
              "      <td>32</td>\n",
              "      <td>0.306279</td>\n",
              "      <td>0.378338</td>\n",
              "      <td>0.153285</td>\n",
              "      <td>00:03</td>\n",
              "    </tr>\n",
              "    <tr>\n",
              "      <td>33</td>\n",
              "      <td>0.293984</td>\n",
              "      <td>0.378632</td>\n",
              "      <td>0.148418</td>\n",
              "      <td>00:03</td>\n",
              "    </tr>\n",
              "    <tr>\n",
              "      <td>34</td>\n",
              "      <td>0.282461</td>\n",
              "      <td>0.382751</td>\n",
              "      <td>0.158151</td>\n",
              "      <td>00:03</td>\n",
              "    </tr>\n",
              "    <tr>\n",
              "      <td>35</td>\n",
              "      <td>0.271613</td>\n",
              "      <td>0.380803</td>\n",
              "      <td>0.148418</td>\n",
              "      <td>00:03</td>\n",
              "    </tr>\n",
              "    <tr>\n",
              "      <td>36</td>\n",
              "      <td>0.261357</td>\n",
              "      <td>0.379927</td>\n",
              "      <td>0.143552</td>\n",
              "      <td>00:03</td>\n",
              "    </tr>\n",
              "    <tr>\n",
              "      <td>37</td>\n",
              "      <td>0.251676</td>\n",
              "      <td>0.382389</td>\n",
              "      <td>0.148418</td>\n",
              "      <td>00:03</td>\n",
              "    </tr>\n",
              "    <tr>\n",
              "      <td>38</td>\n",
              "      <td>0.242571</td>\n",
              "      <td>0.380788</td>\n",
              "      <td>0.150852</td>\n",
              "      <td>00:04</td>\n",
              "    </tr>\n",
              "    <tr>\n",
              "      <td>39</td>\n",
              "      <td>0.233909</td>\n",
              "      <td>0.381655</td>\n",
              "      <td>0.153285</td>\n",
              "      <td>00:03</td>\n",
              "    </tr>\n",
              "  </tbody>\n",
              "</table>"
            ],
            "text/plain": [
              "<IPython.core.display.HTML object>"
            ]
          },
          "metadata": {
            "tags": []
          }
        }
      ]
    }
  ]
}